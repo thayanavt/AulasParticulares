{
  "nbformat": 4,
  "nbformat_minor": 0,
  "metadata": {
    "colab": {
      "name": "Aula2_Gustavo.ipynb",
      "provenance": [],
      "authorship_tag": "ABX9TyN7Sh0bCYjHVeYv/Y41X8Ki",
      "include_colab_link": true
    },
    "kernelspec": {
      "name": "python3",
      "display_name": "Python 3"
    }
  },
  "cells": [
    {
      "cell_type": "markdown",
      "metadata": {
        "id": "view-in-github",
        "colab_type": "text"
      },
      "source": [
        "<a href=\"https://colab.research.google.com/github/thayanavt/AulasParticulares/blob/main/Aula2_Gustavo.ipynb\" target=\"_parent\"><img src=\"https://colab.research.google.com/assets/colab-badge.svg\" alt=\"Open In Colab\"/></a>"
      ]
    },
    {
      "cell_type": "markdown",
      "metadata": {
        "id": "2EBd0lTus2dQ"
      },
      "source": [
        "# Parte 1 - Início dataset"
      ]
    },
    {
      "cell_type": "markdown",
      "metadata": {
        "id": "uCIEfDDwmICn"
      },
      "source": [
        "## Importando dataset"
      ]
    },
    {
      "cell_type": "code",
      "metadata": {
        "id": "lXu_wY1Bl_qc",
        "colab": {
          "base_uri": "https://localhost:8080/",
          "height": 1000
        },
        "outputId": "c12c13cc-eb62-4194-cac1-78c69911c5ac"
      },
      "source": [
        "import pandas as pd\n",
        "df = pd.read_csv(\"https://www.openml.org/data/get_csv/1592291/phpPrh7lv\")\n",
        "df.head(50)"
      ],
      "execution_count": null,
      "outputs": [
        {
          "output_type": "execute_result",
          "data": {
            "text/html": [
              "<div>\n",
              "<style scoped>\n",
              "    .dataframe tbody tr th:only-of-type {\n",
              "        vertical-align: middle;\n",
              "    }\n",
              "\n",
              "    .dataframe tbody tr th {\n",
              "        vertical-align: top;\n",
              "    }\n",
              "\n",
              "    .dataframe thead th {\n",
              "        text-align: right;\n",
              "    }\n",
              "</style>\n",
              "<table border=\"1\" class=\"dataframe\">\n",
              "  <thead>\n",
              "    <tr style=\"text-align: right;\">\n",
              "      <th></th>\n",
              "      <th>V1</th>\n",
              "      <th>V2</th>\n",
              "      <th>V3</th>\n",
              "      <th>V4</th>\n",
              "      <th>V5</th>\n",
              "      <th>V6</th>\n",
              "      <th>V7</th>\n",
              "      <th>Class</th>\n",
              "    </tr>\n",
              "  </thead>\n",
              "  <tbody>\n",
              "    <tr>\n",
              "      <th>0</th>\n",
              "      <td>15.26</td>\n",
              "      <td>14.84</td>\n",
              "      <td>0.8710</td>\n",
              "      <td>5.763</td>\n",
              "      <td>3.312</td>\n",
              "      <td>2.2210</td>\n",
              "      <td>5.220</td>\n",
              "      <td>1</td>\n",
              "    </tr>\n",
              "    <tr>\n",
              "      <th>1</th>\n",
              "      <td>14.88</td>\n",
              "      <td>14.57</td>\n",
              "      <td>0.8811</td>\n",
              "      <td>5.554</td>\n",
              "      <td>3.333</td>\n",
              "      <td>1.0180</td>\n",
              "      <td>4.956</td>\n",
              "      <td>1</td>\n",
              "    </tr>\n",
              "    <tr>\n",
              "      <th>2</th>\n",
              "      <td>14.29</td>\n",
              "      <td>14.09</td>\n",
              "      <td>0.9050</td>\n",
              "      <td>5.291</td>\n",
              "      <td>3.337</td>\n",
              "      <td>2.6990</td>\n",
              "      <td>4.825</td>\n",
              "      <td>1</td>\n",
              "    </tr>\n",
              "    <tr>\n",
              "      <th>3</th>\n",
              "      <td>13.84</td>\n",
              "      <td>13.94</td>\n",
              "      <td>0.8955</td>\n",
              "      <td>5.324</td>\n",
              "      <td>3.379</td>\n",
              "      <td>2.2590</td>\n",
              "      <td>4.805</td>\n",
              "      <td>1</td>\n",
              "    </tr>\n",
              "    <tr>\n",
              "      <th>4</th>\n",
              "      <td>16.14</td>\n",
              "      <td>14.99</td>\n",
              "      <td>0.9034</td>\n",
              "      <td>5.658</td>\n",
              "      <td>3.562</td>\n",
              "      <td>1.3550</td>\n",
              "      <td>5.175</td>\n",
              "      <td>1</td>\n",
              "    </tr>\n",
              "    <tr>\n",
              "      <th>5</th>\n",
              "      <td>14.38</td>\n",
              "      <td>14.21</td>\n",
              "      <td>0.8951</td>\n",
              "      <td>5.386</td>\n",
              "      <td>3.312</td>\n",
              "      <td>2.4620</td>\n",
              "      <td>4.956</td>\n",
              "      <td>1</td>\n",
              "    </tr>\n",
              "    <tr>\n",
              "      <th>6</th>\n",
              "      <td>14.69</td>\n",
              "      <td>14.49</td>\n",
              "      <td>0.8799</td>\n",
              "      <td>5.563</td>\n",
              "      <td>3.259</td>\n",
              "      <td>3.5860</td>\n",
              "      <td>5.219</td>\n",
              "      <td>1</td>\n",
              "    </tr>\n",
              "    <tr>\n",
              "      <th>7</th>\n",
              "      <td>14.11</td>\n",
              "      <td>14.10</td>\n",
              "      <td>0.8911</td>\n",
              "      <td>5.420</td>\n",
              "      <td>3.302</td>\n",
              "      <td>2.7000</td>\n",
              "      <td>5.000</td>\n",
              "      <td>1</td>\n",
              "    </tr>\n",
              "    <tr>\n",
              "      <th>8</th>\n",
              "      <td>16.63</td>\n",
              "      <td>15.46</td>\n",
              "      <td>0.8747</td>\n",
              "      <td>6.053</td>\n",
              "      <td>3.465</td>\n",
              "      <td>2.0400</td>\n",
              "      <td>5.877</td>\n",
              "      <td>1</td>\n",
              "    </tr>\n",
              "    <tr>\n",
              "      <th>9</th>\n",
              "      <td>16.44</td>\n",
              "      <td>15.25</td>\n",
              "      <td>0.8880</td>\n",
              "      <td>5.884</td>\n",
              "      <td>3.505</td>\n",
              "      <td>1.9690</td>\n",
              "      <td>5.533</td>\n",
              "      <td>1</td>\n",
              "    </tr>\n",
              "    <tr>\n",
              "      <th>10</th>\n",
              "      <td>15.26</td>\n",
              "      <td>14.85</td>\n",
              "      <td>0.8696</td>\n",
              "      <td>5.714</td>\n",
              "      <td>3.242</td>\n",
              "      <td>4.5430</td>\n",
              "      <td>5.314</td>\n",
              "      <td>1</td>\n",
              "    </tr>\n",
              "    <tr>\n",
              "      <th>11</th>\n",
              "      <td>14.03</td>\n",
              "      <td>14.16</td>\n",
              "      <td>0.8796</td>\n",
              "      <td>5.438</td>\n",
              "      <td>3.201</td>\n",
              "      <td>1.7170</td>\n",
              "      <td>5.001</td>\n",
              "      <td>1</td>\n",
              "    </tr>\n",
              "    <tr>\n",
              "      <th>12</th>\n",
              "      <td>13.89</td>\n",
              "      <td>14.02</td>\n",
              "      <td>0.8880</td>\n",
              "      <td>5.439</td>\n",
              "      <td>3.199</td>\n",
              "      <td>3.9860</td>\n",
              "      <td>4.738</td>\n",
              "      <td>1</td>\n",
              "    </tr>\n",
              "    <tr>\n",
              "      <th>13</th>\n",
              "      <td>13.78</td>\n",
              "      <td>14.06</td>\n",
              "      <td>0.8759</td>\n",
              "      <td>5.479</td>\n",
              "      <td>3.156</td>\n",
              "      <td>3.1360</td>\n",
              "      <td>4.872</td>\n",
              "      <td>1</td>\n",
              "    </tr>\n",
              "    <tr>\n",
              "      <th>14</th>\n",
              "      <td>13.74</td>\n",
              "      <td>14.05</td>\n",
              "      <td>0.8744</td>\n",
              "      <td>5.482</td>\n",
              "      <td>3.114</td>\n",
              "      <td>2.9320</td>\n",
              "      <td>4.825</td>\n",
              "      <td>1</td>\n",
              "    </tr>\n",
              "    <tr>\n",
              "      <th>15</th>\n",
              "      <td>14.59</td>\n",
              "      <td>14.28</td>\n",
              "      <td>0.8993</td>\n",
              "      <td>5.351</td>\n",
              "      <td>3.333</td>\n",
              "      <td>4.1850</td>\n",
              "      <td>4.781</td>\n",
              "      <td>1</td>\n",
              "    </tr>\n",
              "    <tr>\n",
              "      <th>16</th>\n",
              "      <td>13.99</td>\n",
              "      <td>13.83</td>\n",
              "      <td>0.9183</td>\n",
              "      <td>5.119</td>\n",
              "      <td>3.383</td>\n",
              "      <td>5.2340</td>\n",
              "      <td>4.781</td>\n",
              "      <td>1</td>\n",
              "    </tr>\n",
              "    <tr>\n",
              "      <th>17</th>\n",
              "      <td>15.69</td>\n",
              "      <td>14.75</td>\n",
              "      <td>0.9058</td>\n",
              "      <td>5.527</td>\n",
              "      <td>3.514</td>\n",
              "      <td>1.5990</td>\n",
              "      <td>5.046</td>\n",
              "      <td>1</td>\n",
              "    </tr>\n",
              "    <tr>\n",
              "      <th>18</th>\n",
              "      <td>14.70</td>\n",
              "      <td>14.21</td>\n",
              "      <td>0.9153</td>\n",
              "      <td>5.205</td>\n",
              "      <td>3.466</td>\n",
              "      <td>1.7670</td>\n",
              "      <td>4.649</td>\n",
              "      <td>1</td>\n",
              "    </tr>\n",
              "    <tr>\n",
              "      <th>19</th>\n",
              "      <td>12.72</td>\n",
              "      <td>13.57</td>\n",
              "      <td>0.8686</td>\n",
              "      <td>5.226</td>\n",
              "      <td>3.049</td>\n",
              "      <td>4.1020</td>\n",
              "      <td>4.914</td>\n",
              "      <td>1</td>\n",
              "    </tr>\n",
              "    <tr>\n",
              "      <th>20</th>\n",
              "      <td>14.16</td>\n",
              "      <td>14.40</td>\n",
              "      <td>0.8584</td>\n",
              "      <td>5.658</td>\n",
              "      <td>3.129</td>\n",
              "      <td>3.0720</td>\n",
              "      <td>5.176</td>\n",
              "      <td>1</td>\n",
              "    </tr>\n",
              "    <tr>\n",
              "      <th>21</th>\n",
              "      <td>14.11</td>\n",
              "      <td>14.26</td>\n",
              "      <td>0.8722</td>\n",
              "      <td>5.520</td>\n",
              "      <td>3.168</td>\n",
              "      <td>2.6880</td>\n",
              "      <td>5.219</td>\n",
              "      <td>1</td>\n",
              "    </tr>\n",
              "    <tr>\n",
              "      <th>22</th>\n",
              "      <td>15.88</td>\n",
              "      <td>14.90</td>\n",
              "      <td>0.8988</td>\n",
              "      <td>5.618</td>\n",
              "      <td>3.507</td>\n",
              "      <td>0.7651</td>\n",
              "      <td>5.091</td>\n",
              "      <td>1</td>\n",
              "    </tr>\n",
              "    <tr>\n",
              "      <th>23</th>\n",
              "      <td>12.08</td>\n",
              "      <td>13.23</td>\n",
              "      <td>0.8664</td>\n",
              "      <td>5.099</td>\n",
              "      <td>2.936</td>\n",
              "      <td>1.4150</td>\n",
              "      <td>4.961</td>\n",
              "      <td>1</td>\n",
              "    </tr>\n",
              "    <tr>\n",
              "      <th>24</th>\n",
              "      <td>15.01</td>\n",
              "      <td>14.76</td>\n",
              "      <td>0.8657</td>\n",
              "      <td>5.789</td>\n",
              "      <td>3.245</td>\n",
              "      <td>1.7910</td>\n",
              "      <td>5.001</td>\n",
              "      <td>1</td>\n",
              "    </tr>\n",
              "    <tr>\n",
              "      <th>25</th>\n",
              "      <td>16.19</td>\n",
              "      <td>15.16</td>\n",
              "      <td>0.8849</td>\n",
              "      <td>5.833</td>\n",
              "      <td>3.421</td>\n",
              "      <td>0.9030</td>\n",
              "      <td>5.307</td>\n",
              "      <td>1</td>\n",
              "    </tr>\n",
              "    <tr>\n",
              "      <th>26</th>\n",
              "      <td>13.02</td>\n",
              "      <td>13.76</td>\n",
              "      <td>0.8641</td>\n",
              "      <td>5.395</td>\n",
              "      <td>3.026</td>\n",
              "      <td>3.3730</td>\n",
              "      <td>4.825</td>\n",
              "      <td>1</td>\n",
              "    </tr>\n",
              "    <tr>\n",
              "      <th>27</th>\n",
              "      <td>12.74</td>\n",
              "      <td>13.67</td>\n",
              "      <td>0.8564</td>\n",
              "      <td>5.395</td>\n",
              "      <td>2.956</td>\n",
              "      <td>2.5040</td>\n",
              "      <td>4.869</td>\n",
              "      <td>1</td>\n",
              "    </tr>\n",
              "    <tr>\n",
              "      <th>28</th>\n",
              "      <td>14.11</td>\n",
              "      <td>14.18</td>\n",
              "      <td>0.8820</td>\n",
              "      <td>5.541</td>\n",
              "      <td>3.221</td>\n",
              "      <td>2.7540</td>\n",
              "      <td>5.038</td>\n",
              "      <td>1</td>\n",
              "    </tr>\n",
              "    <tr>\n",
              "      <th>29</th>\n",
              "      <td>13.45</td>\n",
              "      <td>14.02</td>\n",
              "      <td>0.8604</td>\n",
              "      <td>5.516</td>\n",
              "      <td>3.065</td>\n",
              "      <td>3.5310</td>\n",
              "      <td>5.097</td>\n",
              "      <td>1</td>\n",
              "    </tr>\n",
              "    <tr>\n",
              "      <th>30</th>\n",
              "      <td>13.16</td>\n",
              "      <td>13.82</td>\n",
              "      <td>0.8662</td>\n",
              "      <td>5.454</td>\n",
              "      <td>2.975</td>\n",
              "      <td>0.8551</td>\n",
              "      <td>5.056</td>\n",
              "      <td>1</td>\n",
              "    </tr>\n",
              "    <tr>\n",
              "      <th>31</th>\n",
              "      <td>15.49</td>\n",
              "      <td>14.94</td>\n",
              "      <td>0.8724</td>\n",
              "      <td>5.757</td>\n",
              "      <td>3.371</td>\n",
              "      <td>3.4120</td>\n",
              "      <td>5.228</td>\n",
              "      <td>1</td>\n",
              "    </tr>\n",
              "    <tr>\n",
              "      <th>32</th>\n",
              "      <td>14.09</td>\n",
              "      <td>14.41</td>\n",
              "      <td>0.8529</td>\n",
              "      <td>5.717</td>\n",
              "      <td>3.186</td>\n",
              "      <td>3.9200</td>\n",
              "      <td>5.299</td>\n",
              "      <td>1</td>\n",
              "    </tr>\n",
              "    <tr>\n",
              "      <th>33</th>\n",
              "      <td>13.94</td>\n",
              "      <td>14.17</td>\n",
              "      <td>0.8728</td>\n",
              "      <td>5.585</td>\n",
              "      <td>3.150</td>\n",
              "      <td>2.1240</td>\n",
              "      <td>5.012</td>\n",
              "      <td>1</td>\n",
              "    </tr>\n",
              "    <tr>\n",
              "      <th>34</th>\n",
              "      <td>15.05</td>\n",
              "      <td>14.68</td>\n",
              "      <td>0.8779</td>\n",
              "      <td>5.712</td>\n",
              "      <td>3.328</td>\n",
              "      <td>2.1290</td>\n",
              "      <td>5.360</td>\n",
              "      <td>1</td>\n",
              "    </tr>\n",
              "    <tr>\n",
              "      <th>35</th>\n",
              "      <td>16.12</td>\n",
              "      <td>15.00</td>\n",
              "      <td>0.9000</td>\n",
              "      <td>5.709</td>\n",
              "      <td>3.485</td>\n",
              "      <td>2.2700</td>\n",
              "      <td>5.443</td>\n",
              "      <td>1</td>\n",
              "    </tr>\n",
              "    <tr>\n",
              "      <th>36</th>\n",
              "      <td>16.20</td>\n",
              "      <td>15.27</td>\n",
              "      <td>0.8734</td>\n",
              "      <td>5.826</td>\n",
              "      <td>3.464</td>\n",
              "      <td>2.8230</td>\n",
              "      <td>5.527</td>\n",
              "      <td>1</td>\n",
              "    </tr>\n",
              "    <tr>\n",
              "      <th>37</th>\n",
              "      <td>17.08</td>\n",
              "      <td>15.38</td>\n",
              "      <td>0.9079</td>\n",
              "      <td>5.832</td>\n",
              "      <td>3.683</td>\n",
              "      <td>2.9560</td>\n",
              "      <td>5.484</td>\n",
              "      <td>1</td>\n",
              "    </tr>\n",
              "    <tr>\n",
              "      <th>38</th>\n",
              "      <td>14.80</td>\n",
              "      <td>14.52</td>\n",
              "      <td>0.8823</td>\n",
              "      <td>5.656</td>\n",
              "      <td>3.288</td>\n",
              "      <td>3.1120</td>\n",
              "      <td>5.309</td>\n",
              "      <td>1</td>\n",
              "    </tr>\n",
              "    <tr>\n",
              "      <th>39</th>\n",
              "      <td>14.28</td>\n",
              "      <td>14.17</td>\n",
              "      <td>0.8944</td>\n",
              "      <td>5.397</td>\n",
              "      <td>3.298</td>\n",
              "      <td>6.6850</td>\n",
              "      <td>5.001</td>\n",
              "      <td>1</td>\n",
              "    </tr>\n",
              "    <tr>\n",
              "      <th>40</th>\n",
              "      <td>13.54</td>\n",
              "      <td>13.85</td>\n",
              "      <td>0.8871</td>\n",
              "      <td>5.348</td>\n",
              "      <td>3.156</td>\n",
              "      <td>2.5870</td>\n",
              "      <td>5.178</td>\n",
              "      <td>1</td>\n",
              "    </tr>\n",
              "    <tr>\n",
              "      <th>41</th>\n",
              "      <td>13.50</td>\n",
              "      <td>13.85</td>\n",
              "      <td>0.8852</td>\n",
              "      <td>5.351</td>\n",
              "      <td>3.158</td>\n",
              "      <td>2.2490</td>\n",
              "      <td>5.176</td>\n",
              "      <td>1</td>\n",
              "    </tr>\n",
              "    <tr>\n",
              "      <th>42</th>\n",
              "      <td>13.16</td>\n",
              "      <td>13.55</td>\n",
              "      <td>0.9009</td>\n",
              "      <td>5.138</td>\n",
              "      <td>3.201</td>\n",
              "      <td>2.4610</td>\n",
              "      <td>4.783</td>\n",
              "      <td>1</td>\n",
              "    </tr>\n",
              "    <tr>\n",
              "      <th>43</th>\n",
              "      <td>15.50</td>\n",
              "      <td>14.86</td>\n",
              "      <td>0.8820</td>\n",
              "      <td>5.877</td>\n",
              "      <td>3.396</td>\n",
              "      <td>4.7110</td>\n",
              "      <td>5.528</td>\n",
              "      <td>1</td>\n",
              "    </tr>\n",
              "    <tr>\n",
              "      <th>44</th>\n",
              "      <td>15.11</td>\n",
              "      <td>14.54</td>\n",
              "      <td>0.8986</td>\n",
              "      <td>5.579</td>\n",
              "      <td>3.462</td>\n",
              "      <td>3.1280</td>\n",
              "      <td>5.180</td>\n",
              "      <td>1</td>\n",
              "    </tr>\n",
              "    <tr>\n",
              "      <th>45</th>\n",
              "      <td>13.80</td>\n",
              "      <td>14.04</td>\n",
              "      <td>0.8794</td>\n",
              "      <td>5.376</td>\n",
              "      <td>3.155</td>\n",
              "      <td>1.5600</td>\n",
              "      <td>4.961</td>\n",
              "      <td>1</td>\n",
              "    </tr>\n",
              "    <tr>\n",
              "      <th>46</th>\n",
              "      <td>15.36</td>\n",
              "      <td>14.76</td>\n",
              "      <td>0.8861</td>\n",
              "      <td>5.701</td>\n",
              "      <td>3.393</td>\n",
              "      <td>1.3670</td>\n",
              "      <td>5.132</td>\n",
              "      <td>1</td>\n",
              "    </tr>\n",
              "    <tr>\n",
              "      <th>47</th>\n",
              "      <td>14.99</td>\n",
              "      <td>14.56</td>\n",
              "      <td>0.8883</td>\n",
              "      <td>5.570</td>\n",
              "      <td>3.377</td>\n",
              "      <td>2.9580</td>\n",
              "      <td>5.175</td>\n",
              "      <td>1</td>\n",
              "    </tr>\n",
              "    <tr>\n",
              "      <th>48</th>\n",
              "      <td>14.79</td>\n",
              "      <td>14.52</td>\n",
              "      <td>0.8819</td>\n",
              "      <td>5.545</td>\n",
              "      <td>3.291</td>\n",
              "      <td>2.7040</td>\n",
              "      <td>5.111</td>\n",
              "      <td>1</td>\n",
              "    </tr>\n",
              "    <tr>\n",
              "      <th>49</th>\n",
              "      <td>14.86</td>\n",
              "      <td>14.67</td>\n",
              "      <td>0.8676</td>\n",
              "      <td>5.678</td>\n",
              "      <td>3.258</td>\n",
              "      <td>2.1290</td>\n",
              "      <td>5.351</td>\n",
              "      <td>1</td>\n",
              "    </tr>\n",
              "  </tbody>\n",
              "</table>\n",
              "</div>"
            ],
            "text/plain": [
              "       V1     V2      V3     V4     V5      V6     V7  Class\n",
              "0   15.26  14.84  0.8710  5.763  3.312  2.2210  5.220      1\n",
              "1   14.88  14.57  0.8811  5.554  3.333  1.0180  4.956      1\n",
              "2   14.29  14.09  0.9050  5.291  3.337  2.6990  4.825      1\n",
              "3   13.84  13.94  0.8955  5.324  3.379  2.2590  4.805      1\n",
              "4   16.14  14.99  0.9034  5.658  3.562  1.3550  5.175      1\n",
              "5   14.38  14.21  0.8951  5.386  3.312  2.4620  4.956      1\n",
              "6   14.69  14.49  0.8799  5.563  3.259  3.5860  5.219      1\n",
              "7   14.11  14.10  0.8911  5.420  3.302  2.7000  5.000      1\n",
              "8   16.63  15.46  0.8747  6.053  3.465  2.0400  5.877      1\n",
              "9   16.44  15.25  0.8880  5.884  3.505  1.9690  5.533      1\n",
              "10  15.26  14.85  0.8696  5.714  3.242  4.5430  5.314      1\n",
              "11  14.03  14.16  0.8796  5.438  3.201  1.7170  5.001      1\n",
              "12  13.89  14.02  0.8880  5.439  3.199  3.9860  4.738      1\n",
              "13  13.78  14.06  0.8759  5.479  3.156  3.1360  4.872      1\n",
              "14  13.74  14.05  0.8744  5.482  3.114  2.9320  4.825      1\n",
              "15  14.59  14.28  0.8993  5.351  3.333  4.1850  4.781      1\n",
              "16  13.99  13.83  0.9183  5.119  3.383  5.2340  4.781      1\n",
              "17  15.69  14.75  0.9058  5.527  3.514  1.5990  5.046      1\n",
              "18  14.70  14.21  0.9153  5.205  3.466  1.7670  4.649      1\n",
              "19  12.72  13.57  0.8686  5.226  3.049  4.1020  4.914      1\n",
              "20  14.16  14.40  0.8584  5.658  3.129  3.0720  5.176      1\n",
              "21  14.11  14.26  0.8722  5.520  3.168  2.6880  5.219      1\n",
              "22  15.88  14.90  0.8988  5.618  3.507  0.7651  5.091      1\n",
              "23  12.08  13.23  0.8664  5.099  2.936  1.4150  4.961      1\n",
              "24  15.01  14.76  0.8657  5.789  3.245  1.7910  5.001      1\n",
              "25  16.19  15.16  0.8849  5.833  3.421  0.9030  5.307      1\n",
              "26  13.02  13.76  0.8641  5.395  3.026  3.3730  4.825      1\n",
              "27  12.74  13.67  0.8564  5.395  2.956  2.5040  4.869      1\n",
              "28  14.11  14.18  0.8820  5.541  3.221  2.7540  5.038      1\n",
              "29  13.45  14.02  0.8604  5.516  3.065  3.5310  5.097      1\n",
              "30  13.16  13.82  0.8662  5.454  2.975  0.8551  5.056      1\n",
              "31  15.49  14.94  0.8724  5.757  3.371  3.4120  5.228      1\n",
              "32  14.09  14.41  0.8529  5.717  3.186  3.9200  5.299      1\n",
              "33  13.94  14.17  0.8728  5.585  3.150  2.1240  5.012      1\n",
              "34  15.05  14.68  0.8779  5.712  3.328  2.1290  5.360      1\n",
              "35  16.12  15.00  0.9000  5.709  3.485  2.2700  5.443      1\n",
              "36  16.20  15.27  0.8734  5.826  3.464  2.8230  5.527      1\n",
              "37  17.08  15.38  0.9079  5.832  3.683  2.9560  5.484      1\n",
              "38  14.80  14.52  0.8823  5.656  3.288  3.1120  5.309      1\n",
              "39  14.28  14.17  0.8944  5.397  3.298  6.6850  5.001      1\n",
              "40  13.54  13.85  0.8871  5.348  3.156  2.5870  5.178      1\n",
              "41  13.50  13.85  0.8852  5.351  3.158  2.2490  5.176      1\n",
              "42  13.16  13.55  0.9009  5.138  3.201  2.4610  4.783      1\n",
              "43  15.50  14.86  0.8820  5.877  3.396  4.7110  5.528      1\n",
              "44  15.11  14.54  0.8986  5.579  3.462  3.1280  5.180      1\n",
              "45  13.80  14.04  0.8794  5.376  3.155  1.5600  4.961      1\n",
              "46  15.36  14.76  0.8861  5.701  3.393  1.3670  5.132      1\n",
              "47  14.99  14.56  0.8883  5.570  3.377  2.9580  5.175      1\n",
              "48  14.79  14.52  0.8819  5.545  3.291  2.7040  5.111      1\n",
              "49  14.86  14.67  0.8676  5.678  3.258  2.1290  5.351      1"
            ]
          },
          "metadata": {
            "tags": []
          },
          "execution_count": 9
        }
      ]
    },
    {
      "cell_type": "markdown",
      "metadata": {
        "id": "mNN6p4tezLK1"
      },
      "source": [
        "## Definindo X"
      ]
    },
    {
      "cell_type": "code",
      "metadata": {
        "id": "Bcs_AkhZzKjb"
      },
      "source": [
        "X = df.iloc[:,0:6].values"
      ],
      "execution_count": null,
      "outputs": []
    },
    {
      "cell_type": "markdown",
      "metadata": {
        "id": "SfSrCPqPzZjv"
      },
      "source": [
        "## Definindo y\n"
      ]
    },
    {
      "cell_type": "code",
      "metadata": {
        "id": "D-7vi0mTzeWY"
      },
      "source": [
        "y = df.iloc[:,-1]\n"
      ],
      "execution_count": null,
      "outputs": []
    },
    {
      "cell_type": "markdown",
      "metadata": {
        "id": "rujpbV1_r-GN"
      },
      "source": [
        "## Formato do dataset"
      ]
    },
    {
      "cell_type": "code",
      "metadata": {
        "id": "PKb82vwgren6",
        "colab": {
          "base_uri": "https://localhost:8080/"
        },
        "outputId": "e2fb31eb-1eed-400f-baa7-023f651420c9"
      },
      "source": [
        "print(df.shape)"
      ],
      "execution_count": null,
      "outputs": [
        {
          "output_type": "stream",
          "text": [
            "(210, 8)\n"
          ],
          "name": "stdout"
        }
      ]
    },
    {
      "cell_type": "markdown",
      "metadata": {
        "id": "sm7BiAkLsYnH"
      },
      "source": [
        "## Classes do dataset"
      ]
    },
    {
      "cell_type": "code",
      "metadata": {
        "id": "8o9CfDCKr2Af",
        "colab": {
          "base_uri": "https://localhost:8080/"
        },
        "outputId": "fe68bc48-78b9-4df4-c778-f40ca4f61b8c"
      },
      "source": [
        "classes = pd.unique(df['Class'])\n",
        "print(classes)"
      ],
      "execution_count": null,
      "outputs": [
        {
          "output_type": "stream",
          "text": [
            "[1 2 3]\n"
          ],
          "name": "stdout"
        }
      ]
    },
    {
      "cell_type": "markdown",
      "metadata": {
        "id": "xIQ9bOSxs5Ri"
      },
      "source": [
        "# Parte 2 - Pré-processamento dos dados"
      ]
    },
    {
      "cell_type": "markdown",
      "metadata": {
        "id": "mtQQaY0GzBkU"
      },
      "source": [
        "## Verificando valores NaN"
      ]
    },
    {
      "cell_type": "code",
      "metadata": {
        "id": "1Q-jVRFdsVmG",
        "colab": {
          "base_uri": "https://localhost:8080/"
        },
        "outputId": "07b1fb78-14e7-460c-d964-0cfe952f119e"
      },
      "source": [
        "#isnull() verifica item por item do dataframe e categoriza o item como False(se ñ tiver NaN) ou True(se tiver NaN)\n",
        "#.values transforma o resultado do isnull() em array\n",
        "#.any() retorna True se algum elemento do array for True e retorna False se TODOS forem False\n",
        "\n",
        "df.isnull().values.any() #verificando se tem valores NaN\n"
      ],
      "execution_count": null,
      "outputs": [
        {
          "output_type": "execute_result",
          "data": {
            "text/plain": [
              "False"
            ]
          },
          "metadata": {
            "tags": []
          },
          "execution_count": 5
        }
      ]
    },
    {
      "cell_type": "markdown",
      "metadata": {
        "id": "NqgVHpXfzFy2"
      },
      "source": [
        "## Normalização"
      ]
    },
    {
      "cell_type": "markdown",
      "metadata": {
        "id": "PTujG1Igv8uQ"
      },
      "source": [
        "Padronização(standardization) é diferente de normalização(normalization)"
      ]
    },
    {
      "cell_type": "code",
      "metadata": {
        "id": "9CCbtiAotmJN",
        "colab": {
          "base_uri": "https://localhost:8080/"
        },
        "outputId": "db00ae63-cac4-4488-90d7-500335c66baf"
      },
      "source": [
        "#NORMALIZAÇÃO (dados de 0 à 1)\n",
        "\n",
        "from sklearn import preprocessing\n",
        "\n",
        "X_normalized = preprocessing.normalize(X)\n",
        "print(X_normalized)"
      ],
      "execution_count": null,
      "outputs": [
        {
          "output_type": "stream",
          "text": [
            "[[0.68043264 0.66170513 0.03883728 0.2569681  0.14767974 0.09903282]\n",
            " [0.68097458 0.66678761 0.04032303 0.25417559 0.15253281 0.04658818]\n",
            " [0.67366245 0.66423401 0.04266372 0.24942953 0.15731362 0.12723688]\n",
            " ...\n",
            " [0.60976292 0.63101223 0.04103427 0.24187262 0.14929953 0.38410444]\n",
            " [0.62128063 0.69316867 0.04471227 0.27154791 0.1488135  0.18879795]\n",
            " [0.61645872 0.66858205 0.04352299 0.26277179 0.1490527  0.28251852]]\n"
          ],
          "name": "stdout"
        }
      ]
    },
    {
      "cell_type": "markdown",
      "metadata": {
        "id": "1hUVa7ilAhlP"
      },
      "source": [
        "## Dividindo treino e teste\n",
        "\n",
        "https://scikit-learn.org/stable/modules/generated/sklearn.model_selection.train_test_split.html\n",
        "\n",
        "\n"
      ]
    },
    {
      "cell_type": "code",
      "metadata": {
        "id": "qOkJeQk1wPOU",
        "colab": {
          "base_uri": "https://localhost:8080/"
        },
        "outputId": "ea8b2bff-3091-4e0a-bc5b-5217b1a2c91e"
      },
      "source": [
        "from sklearn.model_selection import train_test_split\n",
        "\n",
        "X_train, X_test, y_train, y_test = train_test_split(X_normalized, y, test_size=0.045, shuffle=True, random_state=10)\n",
        "\n",
        "print(X_test)\n",
        "print(y_test)"
      ],
      "execution_count": null,
      "outputs": [
        {
          "output_type": "stream",
          "text": [
            "[[0.67728329 0.66600276 0.03906223 0.26121206 0.14642134 0.08081375]\n",
            " [0.72078059 0.62242247 0.03451755 0.23713528 0.14584665 0.11987396]\n",
            " [0.70991639 0.63529117 0.03374545 0.24501297 0.13721664 0.11146899]\n",
            " [0.62816206 0.67921587 0.04283515 0.26693134 0.14855657 0.22118312]\n",
            " [0.65902139 0.66447912 0.03883178 0.25992458 0.14158272 0.18720028]\n",
            " [0.69578436 0.63410707 0.03532537 0.24098487 0.14488117 0.18297597]\n",
            " [0.71031532 0.63121737 0.03434888 0.23725472 0.13951783 0.14171065]\n",
            " [0.72319235 0.62122789 0.03357274 0.23584001 0.144072   0.11646607]\n",
            " [0.71952253 0.62386129 0.03270114 0.238928   0.1380898  0.1259352 ]\n",
            " [0.72391553 0.62099279 0.03477867 0.23626145 0.14616565 0.10918259]]\n",
            "24     1\n",
            "91     2\n",
            "98     2\n",
            "163    3\n",
            "52     1\n",
            "72     2\n",
            "121    2\n",
            "117    2\n",
            "103    2\n",
            "106    2\n",
            "Name: Class, dtype: int64\n"
          ],
          "name": "stdout"
        }
      ]
    },
    {
      "cell_type": "markdown",
      "metadata": {
        "id": "TB35qoDZywUt"
      },
      "source": [
        "# Parte 3 - Árvore de decisão\n",
        "\n"
      ]
    },
    {
      "cell_type": "markdown",
      "metadata": {
        "id": "HIHcPExw1MIz"
      },
      "source": [
        "## Treinamento e predição\n",
        "\n",
        "https://scikit-learn.org/stable/modules/generated/sklearn.tree.DecisionTreeClassifier.html"
      ]
    },
    {
      "cell_type": "code",
      "metadata": {
        "id": "CaSTV2Tw0MME"
      },
      "source": [
        "from sklearn.tree import DecisionTreeClassifier\n",
        "clf_arvore = DecisionTreeClassifier(criterion='entropy')\n",
        "clf_fit_arvore = clf_arvore.fit(X_train,y_train)\n",
        "y_pred_arvore = clf_fit_arvore.predict(X_test)\n"
      ],
      "execution_count": null,
      "outputs": []
    },
    {
      "cell_type": "code",
      "metadata": {
        "id": "F80K5ukQcibO",
        "colab": {
          "base_uri": "https://localhost:8080/"
        },
        "outputId": "b800a80c-7f05-4439-cbe4-ede7b16448cd"
      },
      "source": [
        "print(list(y_test))"
      ],
      "execution_count": null,
      "outputs": [
        {
          "output_type": "stream",
          "text": [
            "[2, 1, 2, 1, 1, 1, 2, 1, 1, 3]\n"
          ],
          "name": "stdout"
        }
      ]
    },
    {
      "cell_type": "code",
      "metadata": {
        "id": "JbTNjd7aZ6bj",
        "colab": {
          "base_uri": "https://localhost:8080/"
        },
        "outputId": "4b55b3f8-c6f0-40f0-84d2-ca15ac4872b6"
      },
      "source": [
        "print(y_pred_arvore)"
      ],
      "execution_count": null,
      "outputs": [
        {
          "output_type": "stream",
          "text": [
            "[2 3 2 1 1 1 2 1 1 3]\n"
          ],
          "name": "stdout"
        }
      ]
    },
    {
      "cell_type": "markdown",
      "metadata": {
        "id": "mQiJ2TJ0Zc3G"
      },
      "source": [
        "## Matriz de confusão"
      ]
    },
    {
      "cell_type": "code",
      "metadata": {
        "id": "Fp6QBhmQZcQK",
        "colab": {
          "base_uri": "https://localhost:8080/"
        },
        "outputId": "290cac93-a4ac-4f57-aca8-a19c6dd404be"
      },
      "source": [
        "from sklearn.metrics import confusion_matrix\n",
        "\n",
        "matrizconf_arvore = confusion_matrix(y_test, y_pred_arvore)\n",
        "print(matrizconf_arvore)"
      ],
      "execution_count": null,
      "outputs": [
        {
          "output_type": "stream",
          "text": [
            "[[5 0 1]\n",
            " [0 3 0]\n",
            " [0 0 1]]\n"
          ],
          "name": "stdout"
        }
      ]
    },
    {
      "cell_type": "markdown",
      "metadata": {
        "id": "flE3uiLFaqYZ"
      },
      "source": [
        "## Acurácia árvore de decisão"
      ]
    },
    {
      "cell_type": "code",
      "metadata": {
        "id": "AbAGJzcFW8gw",
        "colab": {
          "base_uri": "https://localhost:8080/"
        },
        "outputId": "cd3bdbfd-c112-400a-9cf1-e9a44ab9f26f"
      },
      "source": [
        "from sklearn.metrics import accuracy_score\n",
        "\n",
        "acuracia_arvore = accuracy_score(y_test, y_pred_arvore)\n",
        "print(acuracia_arvore)"
      ],
      "execution_count": null,
      "outputs": [
        {
          "output_type": "stream",
          "text": [
            "1.0\n"
          ],
          "name": "stdout"
        }
      ]
    },
    {
      "cell_type": "markdown",
      "metadata": {
        "id": "khQ38_9lbSwI"
      },
      "source": [
        "# Parte 4 - Bayesiano\n",
        "\n",
        "https://scikit-learn.org/stable/modules/generated/sklearn.naive_bayes.BernoulliNB.html"
      ]
    },
    {
      "cell_type": "code",
      "metadata": {
        "id": "7ZZmom8ibBFM"
      },
      "source": [
        "from sklearn.naive_bayes import BernoulliNB\n",
        "clf_bayesiano = BernoulliNB()\n",
        "clf_fit_bayesiano = clf_bayesiano.fit(X_train, y_train)\n",
        "y_pred_bayesiano = clf_fit_bayesiano.predict(X_test)"
      ],
      "execution_count": null,
      "outputs": []
    },
    {
      "cell_type": "code",
      "metadata": {
        "id": "ubFCv1_qbdaN",
        "colab": {
          "base_uri": "https://localhost:8080/"
        },
        "outputId": "3751ef13-5777-4fcb-aff1-d243fa09554c"
      },
      "source": [
        "print(list(y_test))"
      ],
      "execution_count": null,
      "outputs": [
        {
          "output_type": "stream",
          "text": [
            "[2, 1, 2, 1, 1, 1, 2, 1, 1, 3]\n"
          ],
          "name": "stdout"
        }
      ]
    },
    {
      "cell_type": "code",
      "metadata": {
        "id": "4JA8343QdZ3h",
        "colab": {
          "base_uri": "https://localhost:8080/"
        },
        "outputId": "e21bd6cf-858a-4b24-fbd4-47d3f278ab36"
      },
      "source": [
        "print(y_pred_bayesiano)"
      ],
      "execution_count": null,
      "outputs": [
        {
          "output_type": "stream",
          "text": [
            "[3 3 3 3 3 3 3 3 3 3]\n"
          ],
          "name": "stdout"
        }
      ]
    },
    {
      "cell_type": "markdown",
      "metadata": {
        "id": "65nGJh6Xd7rN"
      },
      "source": [
        "## Matriz de confusão"
      ]
    },
    {
      "cell_type": "code",
      "metadata": {
        "id": "KywOhFS3dgaA",
        "colab": {
          "base_uri": "https://localhost:8080/"
        },
        "outputId": "18948e22-23c6-4a32-b541-dcf9d7a04ac8"
      },
      "source": [
        "matrizconf_bayesiano = confusion_matrix(y_test, y_pred_bayesiano)\n",
        "print(matrizconf_bayesiano)"
      ],
      "execution_count": null,
      "outputs": [
        {
          "output_type": "stream",
          "text": [
            "[[0 0 6]\n",
            " [0 0 3]\n",
            " [0 0 1]]\n"
          ],
          "name": "stdout"
        }
      ]
    },
    {
      "cell_type": "markdown",
      "metadata": {
        "id": "G6cNGZnveJHv"
      },
      "source": [
        "## Acurácia bayesiano"
      ]
    },
    {
      "cell_type": "code",
      "metadata": {
        "id": "BDBUq6RHeDko",
        "colab": {
          "base_uri": "https://localhost:8080/"
        },
        "outputId": "cebc10ba-08c9-4d98-ede2-6caadb4d7f15"
      },
      "source": [
        "acuracia_bayesiano = accuracy_score(y_test, y_pred_bayesiano)\n",
        "print(acuracia_bayesiano)"
      ],
      "execution_count": null,
      "outputs": [
        {
          "output_type": "stream",
          "text": [
            "0.1\n"
          ],
          "name": "stdout"
        }
      ]
    },
    {
      "cell_type": "markdown",
      "metadata": {
        "id": "UEjWlsibeW8M"
      },
      "source": [
        "# Parte 5 - SVM (linear classificação)"
      ]
    },
    {
      "cell_type": "code",
      "metadata": {
        "id": "Gxopk_uAeUw2"
      },
      "source": [
        "from sklearn.svm import LinearSVC\n",
        "clf_svc = LinearSVC()\n",
        "clf_fit_svc = clf_svc.fit(X_train, y_train)\n",
        "y_pred_svc = clf_fit_svc.predict(X_test)"
      ],
      "execution_count": null,
      "outputs": []
    },
    {
      "cell_type": "code",
      "metadata": {
        "id": "n8wUSL3Cgg9W",
        "colab": {
          "base_uri": "https://localhost:8080/"
        },
        "outputId": "38461b25-7d24-4c81-fac7-0bed9b9d3231"
      },
      "source": [
        "print(list(y_test))"
      ],
      "execution_count": null,
      "outputs": [
        {
          "output_type": "stream",
          "text": [
            "[2, 1, 2, 1, 1, 1, 2, 1, 1, 3]\n"
          ],
          "name": "stdout"
        }
      ]
    },
    {
      "cell_type": "code",
      "metadata": {
        "id": "HLgWh31SgoGs",
        "colab": {
          "base_uri": "https://localhost:8080/"
        },
        "outputId": "4c4eb969-c580-46c1-aff0-899c7395c7fe"
      },
      "source": [
        "print(y_pred_svc)"
      ],
      "execution_count": null,
      "outputs": [
        {
          "output_type": "stream",
          "text": [
            "[2 1 2 1 3 1 2 1 1 3]\n"
          ],
          "name": "stdout"
        }
      ]
    },
    {
      "cell_type": "markdown",
      "metadata": {
        "id": "QB1U6Z1rgzvo"
      },
      "source": [
        "## Matriz de confusão"
      ]
    },
    {
      "cell_type": "code",
      "metadata": {
        "id": "aVEGmWMogqKt",
        "colab": {
          "base_uri": "https://localhost:8080/"
        },
        "outputId": "fc3b2963-8132-42d5-dce2-46c0f18cabf1"
      },
      "source": [
        "matrizconf_svc = confusion_matrix(y_test, y_pred_svc)\n",
        "print(matrizconf_svc)"
      ],
      "execution_count": null,
      "outputs": [
        {
          "output_type": "stream",
          "text": [
            "[[5 0 1]\n",
            " [0 3 0]\n",
            " [0 0 1]]\n"
          ],
          "name": "stdout"
        }
      ]
    },
    {
      "cell_type": "markdown",
      "metadata": {
        "id": "WuRQLiRag2g5"
      },
      "source": [
        "## Acurácia - SVC"
      ]
    },
    {
      "cell_type": "code",
      "metadata": {
        "id": "vxyvv_cQgyYE",
        "colab": {
          "base_uri": "https://localhost:8080/"
        },
        "outputId": "9787da37-29d8-4b96-c760-3e19c146f1d6"
      },
      "source": [
        "acuracia_svc = accuracy_score(y_test, y_pred_svc)\n",
        "print(acuracia_svc)"
      ],
      "execution_count": null,
      "outputs": [
        {
          "output_type": "stream",
          "text": [
            "0.9\n"
          ],
          "name": "stdout"
        }
      ]
    },
    {
      "cell_type": "markdown",
      "metadata": {
        "id": "nqeNmyGThB5m"
      },
      "source": [
        "# Gráfico acurácias"
      ]
    },
    {
      "cell_type": "code",
      "metadata": {
        "id": "XRHg-kjzhAK2",
        "colab": {
          "base_uri": "https://localhost:8080/",
          "height": 499
        },
        "outputId": "83673310-6d57-4232-8928-91f202221fec"
      },
      "source": [
        "import matplotlib.pyplot as plt\n",
        "\n",
        "plt.figure(figsize=(8,8))\n",
        "lista_modelos = ['Árvore decisão', 'Bayesiano', 'SVM']\n",
        "lista_acuracias = [acuracia_arvore, acuracia_bayesiano, acuracia_svc]\n",
        "lista_color=['green', 'royalblue', 'crimson']\n",
        "plt.bar(lista_modelos, lista_acuracias, color=lista_color, width=0.5)\n",
        "\n",
        "plt.title(\"Acurácia dos modelos\")\n",
        "plt.show()"
      ],
      "execution_count": null,
      "outputs": [
        {
          "output_type": "display_data",
          "data": {
            "image/png": "[encoded data removed]",
            "text/plain": [
              "<Figure size 576x576 with 1 Axes>"
            ]
          },
          "metadata": {
            "tags": [],
            "needs_background": "light"
          }
        }
      ]
    },
    {
      "cell_type": "code",
      "metadata": {
        "id": "VHyrODeRhmd7"
      },
      "source": [
        ""
      ],
      "execution_count": null,
      "outputs": []
    }
  ]
}
