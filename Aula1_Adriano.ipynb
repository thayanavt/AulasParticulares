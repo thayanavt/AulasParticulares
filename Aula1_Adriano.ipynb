{
  "nbformat": 4,
  "nbformat_minor": 0,
  "metadata": {
    "colab": {
      "name": "Aula1_Adriano.ipynb",
      "provenance": [],
      "include_colab_link": true
    },
    "kernelspec": {
      "name": "python3",
      "display_name": "Python 3"
    }
  },
  "cells": [
    {
      "cell_type": "markdown",
      "metadata": {
        "id": "view-in-github",
        "colab_type": "text"
      },
      "source": [
        "<a href=\"https://colab.research.google.com/github/thayanavt/AulasParticulares/blob/main/Aula1_Adriano.ipynb\" target=\"_parent\"><img src=\"https://colab.research.google.com/assets/colab-badge.svg\" alt=\"Open In Colab\"/></a>"
      ]
    },
    {
      "cell_type": "code",
      "metadata": {
        "id": "X-lugRCL90AU"
      },
      "source": [
        "import pandas as pd\n",
        "import matplotlib.pyplot as plt"
      ],
      "execution_count": 3,
      "outputs": []
    },
    {
      "cell_type": "code",
      "metadata": {
        "id": "HBRV8f-X8LOk",
        "outputId": "1b534122-38bb-47f5-c63c-0f1ce58e3756",
        "colab": {
          "base_uri": "https://localhost:8080/",
          "height": 574
        }
      },
      "source": [
        "dados = pd.read_csv(\"https://drive.google.com/u/3/uc?id=1Quu4pq4EToFlQYpvyYQySeHMkl3QbBOy&export=download\" , sep = \";\")\n",
        "dados.head()\n"
      ],
      "execution_count": 4,
      "outputs": [
        {
          "output_type": "execute_result",
          "data": {
            "text/html": [
              "<div>\n",
              "<style scoped>\n",
              "    .dataframe tbody tr th:only-of-type {\n",
              "        vertical-align: middle;\n",
              "    }\n",
              "\n",
              "    .dataframe tbody tr th {\n",
              "        vertical-align: top;\n",
              "    }\n",
              "\n",
              "    .dataframe thead th {\n",
              "        text-align: right;\n",
              "    }\n",
              "</style>\n",
              "<table border=\"1\" class=\"dataframe\">\n",
              "  <thead>\n",
              "    <tr style=\"text-align: right;\">\n",
              "      <th></th>\n",
              "      <th>dre</th>\n",
              "      <th>codesc</th>\n",
              "      <th>tipoesc</th>\n",
              "      <th>nomesc</th>\n",
              "      <th>ceu</th>\n",
              "      <th>diretoria</th>\n",
              "      <th>subpref</th>\n",
              "      <th>endereco</th>\n",
              "      <th>numero</th>\n",
              "      <th>bairro</th>\n",
              "      <th>cep</th>\n",
              "      <th>tel1</th>\n",
              "      <th>tel2</th>\n",
              "      <th>fax</th>\n",
              "      <th>situacao</th>\n",
              "      <th>coddist</th>\n",
              "      <th>distrito</th>\n",
              "      <th>setor</th>\n",
              "      <th>codinep</th>\n",
              "      <th>cd_cie</th>\n",
              "      <th>eh</th>\n",
              "      <th>fx_etaria</th>\n",
              "      <th>dt_criacao</th>\n",
              "      <th>ato_criacao</th>\n",
              "      <th>dom_criacao</th>\n",
              "      <th>dt_ini_conv</th>\n",
              "      <th>dt_ini_func</th>\n",
              "      <th>dt_autoriza</th>\n",
              "      <th>dt_extintao</th>\n",
              "      <th>nome_ant</th>\n",
              "      <th>rede</th>\n",
              "      <th>latitude</th>\n",
              "      <th>longitude</th>\n",
              "      <th>database</th>\n",
              "    </tr>\n",
              "  </thead>\n",
              "  <tbody>\n",
              "    <tr>\n",
              "      <th>0</th>\n",
              "      <td>BT</td>\n",
              "      <td>191</td>\n",
              "      <td>EMEF</td>\n",
              "      <td>ALIPIO CORREA NETO, PROF</td>\n",
              "      <td>NaN</td>\n",
              "      <td>DIRETORIA REGIONAL DE EDUCACAO BUTANTA</td>\n",
              "      <td>BUTANTA</td>\n",
              "      <td>Avenida JOAO CAIAFFA</td>\n",
              "      <td>140</td>\n",
              "      <td>JARDIM TABOAO</td>\n",
              "      <td>5742100</td>\n",
              "      <td>58450121.0</td>\n",
              "      <td>NaN</td>\n",
              "      <td>NaN</td>\n",
              "      <td>ATIVA</td>\n",
              "      <td>94</td>\n",
              "      <td>VILA SONIA</td>\n",
              "      <td>9404</td>\n",
              "      <td>35098462.0</td>\n",
              "      <td>38488.0</td>\n",
              "      <td>1,621E+14</td>\n",
              "      <td>NaN</td>\n",
              "      <td>27/05/1988</td>\n",
              "      <td>26.003</td>\n",
              "      <td>27/05/1988</td>\n",
              "      <td>NaN</td>\n",
              "      <td>02/10/1988</td>\n",
              "      <td>16/03/1991</td>\n",
              "      <td>NaN</td>\n",
              "      <td>ALIPIO CORREA NETO, PROF.</td>\n",
              "      <td>DIR</td>\n",
              "      <td>-23.612.237</td>\n",
              "      <td>-46.749.888</td>\n",
              "      <td>01/12/2019</td>\n",
              "    </tr>\n",
              "    <tr>\n",
              "      <th>1</th>\n",
              "      <td>BT</td>\n",
              "      <td>213</td>\n",
              "      <td>EMEI</td>\n",
              "      <td>ANTONIO CARLOS PACHECO E SILVA, PROF</td>\n",
              "      <td>NaN</td>\n",
              "      <td>DIRETORIA REGIONAL DE EDUCACAO BUTANTA</td>\n",
              "      <td>BUTANTA</td>\n",
              "      <td>Avenida JOÃO CAIAFFA</td>\n",
              "      <td>90</td>\n",
              "      <td>JARDIM TABOÃO</td>\n",
              "      <td>5742100</td>\n",
              "      <td>58448902.0</td>\n",
              "      <td>NaN</td>\n",
              "      <td>NaN</td>\n",
              "      <td>ATIVA</td>\n",
              "      <td>94</td>\n",
              "      <td>VILA SONIA</td>\n",
              "      <td>9404</td>\n",
              "      <td>35098504.0</td>\n",
              "      <td>13506.0</td>\n",
              "      <td>1,621E+14</td>\n",
              "      <td>NaN</td>\n",
              "      <td>07/06/1988</td>\n",
              "      <td>26.117</td>\n",
              "      <td>07/06/1988</td>\n",
              "      <td>NaN</td>\n",
              "      <td>26/09/1988</td>\n",
              "      <td>13/03/2001</td>\n",
              "      <td>NaN</td>\n",
              "      <td>ANTONIO CARLOS PACHECO E SILVA, PROF.</td>\n",
              "      <td>DIR</td>\n",
              "      <td>-23.611.929</td>\n",
              "      <td>-46.750.176</td>\n",
              "      <td>01/12/2019</td>\n",
              "    </tr>\n",
              "    <tr>\n",
              "      <th>2</th>\n",
              "      <td>BT</td>\n",
              "      <td>477</td>\n",
              "      <td>EMEF</td>\n",
              "      <td>PROFA. EDA TEREZINHA CHICA MEDEIROS</td>\n",
              "      <td>NaN</td>\n",
              "      <td>DIRETORIA REGIONAL DE EDUCACAO BUTANTA</td>\n",
              "      <td>BUTANTA</td>\n",
              "      <td>Rua ENGENHEIRO HUGO TAKAHASHI</td>\n",
              "      <td>333</td>\n",
              "      <td>RAPOSO TAVARES</td>\n",
              "      <td>5563120</td>\n",
              "      <td>37820714.0</td>\n",
              "      <td>NaN</td>\n",
              "      <td>NaN</td>\n",
              "      <td>ATIVA</td>\n",
              "      <td>65</td>\n",
              "      <td>RAPOSO TAVARES</td>\n",
              "      <td>6504</td>\n",
              "      <td>35098474.0</td>\n",
              "      <td>19766.0</td>\n",
              "      <td>1,621E+14</td>\n",
              "      <td>NaN</td>\n",
              "      <td>26/10/1988</td>\n",
              "      <td>27.212</td>\n",
              "      <td>26/10/1988</td>\n",
              "      <td>NaN</td>\n",
              "      <td>20/02/1989</td>\n",
              "      <td>16/03/1991</td>\n",
              "      <td>NaN</td>\n",
              "      <td>EDA TEREZINHA CHICA MEDEIROS, PROFA.</td>\n",
              "      <td>DIR</td>\n",
              "      <td>-23.602.076</td>\n",
              "      <td>-46.783.825</td>\n",
              "      <td>01/12/2019</td>\n",
              "    </tr>\n",
              "    <tr>\n",
              "      <th>3</th>\n",
              "      <td>BT</td>\n",
              "      <td>11924</td>\n",
              "      <td>EMEF</td>\n",
              "      <td>PROFA. MARIA ALICE BORGES GHION</td>\n",
              "      <td>NaN</td>\n",
              "      <td>DIRETORIA REGIONAL DE EDUCACAO BUTANTA</td>\n",
              "      <td>BUTANTA</td>\n",
              "      <td>Rua CACHOEIRA PORAQUÊ</td>\n",
              "      <td>575</td>\n",
              "      <td>CONJUNTO PROMORAR RAPOSO TAVARES</td>\n",
              "      <td>5574450</td>\n",
              "      <td>37828909.0</td>\n",
              "      <td>37829756</td>\n",
              "      <td>NaN</td>\n",
              "      <td>ATIVA</td>\n",
              "      <td>65</td>\n",
              "      <td>RAPOSO TAVARES</td>\n",
              "      <td>6501</td>\n",
              "      <td>35076181.0</td>\n",
              "      <td>44289.0</td>\n",
              "      <td>1,621E+14</td>\n",
              "      <td>NaN</td>\n",
              "      <td>17/02/1992</td>\n",
              "      <td>31.240</td>\n",
              "      <td>17/02/1992</td>\n",
              "      <td>NaN</td>\n",
              "      <td>20/02/1992</td>\n",
              "      <td>13/03/2001</td>\n",
              "      <td>NaN</td>\n",
              "      <td>COHAB RAPOSO TAVARES</td>\n",
              "      <td>DIR</td>\n",
              "      <td>-23.586.959</td>\n",
              "      <td>-46.801.039</td>\n",
              "      <td>01/12/2019</td>\n",
              "    </tr>\n",
              "    <tr>\n",
              "      <th>4</th>\n",
              "      <td>BT</td>\n",
              "      <td>14591</td>\n",
              "      <td>EMEI</td>\n",
              "      <td>PROF. BENEDICTO CASTRUCCI</td>\n",
              "      <td>NaN</td>\n",
              "      <td>DIRETORIA REGIONAL DE EDUCACAO BUTANTA</td>\n",
              "      <td>BUTANTA</td>\n",
              "      <td>Rua CACHOEIRA PORAQUE</td>\n",
              "      <td>S/N</td>\n",
              "      <td>CONJUNTO PROMORAR RAPOSO TAVARES</td>\n",
              "      <td>5574450</td>\n",
              "      <td>37814833.0</td>\n",
              "      <td>NaN</td>\n",
              "      <td>NaN</td>\n",
              "      <td>ATIVA</td>\n",
              "      <td>65</td>\n",
              "      <td>RAPOSO TAVARES</td>\n",
              "      <td>6501</td>\n",
              "      <td>35200074.0</td>\n",
              "      <td>20806.0</td>\n",
              "      <td>1,621E+14</td>\n",
              "      <td>NaN</td>\n",
              "      <td>02/03/1994</td>\n",
              "      <td>34.005</td>\n",
              "      <td>02/03/1994</td>\n",
              "      <td>NaN</td>\n",
              "      <td>13/04/1994</td>\n",
              "      <td>13/03/2001</td>\n",
              "      <td>NaN</td>\n",
              "      <td>CONJ. HABITACIONAL RAPOSO TAVARES</td>\n",
              "      <td>DIR</td>\n",
              "      <td>-23.586.339</td>\n",
              "      <td>-46.800.967</td>\n",
              "      <td>01/12/2019</td>\n",
              "    </tr>\n",
              "  </tbody>\n",
              "</table>\n",
              "</div>"
            ],
            "text/plain": [
              "  dre  codesc tipoesc  ...     latitude    longitude    database\n",
              "0  BT     191    EMEF  ...  -23.612.237  -46.749.888  01/12/2019\n",
              "1  BT     213    EMEI  ...  -23.611.929  -46.750.176  01/12/2019\n",
              "2  BT     477    EMEF  ...  -23.602.076  -46.783.825  01/12/2019\n",
              "3  BT   11924    EMEF  ...  -23.586.959  -46.801.039  01/12/2019\n",
              "4  BT   14591    EMEI  ...  -23.586.339  -46.800.967  01/12/2019\n",
              "\n",
              "[5 rows x 34 columns]"
            ]
          },
          "metadata": {
            "tags": []
          },
          "execution_count": 4
        }
      ]
    },
    {
      "cell_type": "code",
      "metadata": {
        "id": "B7d2CyRNAVq5",
        "outputId": "1b48f6e2-62ca-414b-a208-495b6b5c40e8",
        "colab": {
          "base_uri": "https://localhost:8080/",
          "height": 574
        }
      },
      "source": [
        "\n",
        "dados = dados[['tipoesc', 'nomesc', 'ceu', 'diretoria', 'subpref','situacao','distrito', 'setor', \n",
        "       'fx_etaria', 'dt_criacao', 'ato_criacao', 'dom_criacao', 'dt_ini_conv',\n",
        "       'dt_ini_func', 'dt_autoriza', 'dt_extintao', 'nome_ant', 'rede','latitude', 'longitude']] #selecionado as colunas com esses nomes\n",
        "dados.head()"
      ],
      "execution_count": 5,
      "outputs": [
        {
          "output_type": "execute_result",
          "data": {
            "text/html": [
              "<div>\n",
              "<style scoped>\n",
              "    .dataframe tbody tr th:only-of-type {\n",
              "        vertical-align: middle;\n",
              "    }\n",
              "\n",
              "    .dataframe tbody tr th {\n",
              "        vertical-align: top;\n",
              "    }\n",
              "\n",
              "    .dataframe thead th {\n",
              "        text-align: right;\n",
              "    }\n",
              "</style>\n",
              "<table border=\"1\" class=\"dataframe\">\n",
              "  <thead>\n",
              "    <tr style=\"text-align: right;\">\n",
              "      <th></th>\n",
              "      <th>tipoesc</th>\n",
              "      <th>nomesc</th>\n",
              "      <th>ceu</th>\n",
              "      <th>diretoria</th>\n",
              "      <th>subpref</th>\n",
              "      <th>situacao</th>\n",
              "      <th>distrito</th>\n",
              "      <th>setor</th>\n",
              "      <th>fx_etaria</th>\n",
              "      <th>dt_criacao</th>\n",
              "      <th>ato_criacao</th>\n",
              "      <th>dom_criacao</th>\n",
              "      <th>dt_ini_conv</th>\n",
              "      <th>dt_ini_func</th>\n",
              "      <th>dt_autoriza</th>\n",
              "      <th>dt_extintao</th>\n",
              "      <th>nome_ant</th>\n",
              "      <th>rede</th>\n",
              "      <th>latitude</th>\n",
              "      <th>longitude</th>\n",
              "    </tr>\n",
              "  </thead>\n",
              "  <tbody>\n",
              "    <tr>\n",
              "      <th>0</th>\n",
              "      <td>EMEF</td>\n",
              "      <td>ALIPIO CORREA NETO, PROF</td>\n",
              "      <td>NaN</td>\n",
              "      <td>DIRETORIA REGIONAL DE EDUCACAO BUTANTA</td>\n",
              "      <td>BUTANTA</td>\n",
              "      <td>ATIVA</td>\n",
              "      <td>VILA SONIA</td>\n",
              "      <td>9404</td>\n",
              "      <td>NaN</td>\n",
              "      <td>27/05/1988</td>\n",
              "      <td>26.003</td>\n",
              "      <td>27/05/1988</td>\n",
              "      <td>NaN</td>\n",
              "      <td>02/10/1988</td>\n",
              "      <td>16/03/1991</td>\n",
              "      <td>NaN</td>\n",
              "      <td>ALIPIO CORREA NETO, PROF.</td>\n",
              "      <td>DIR</td>\n",
              "      <td>-23.612.237</td>\n",
              "      <td>-46.749.888</td>\n",
              "    </tr>\n",
              "    <tr>\n",
              "      <th>1</th>\n",
              "      <td>EMEI</td>\n",
              "      <td>ANTONIO CARLOS PACHECO E SILVA, PROF</td>\n",
              "      <td>NaN</td>\n",
              "      <td>DIRETORIA REGIONAL DE EDUCACAO BUTANTA</td>\n",
              "      <td>BUTANTA</td>\n",
              "      <td>ATIVA</td>\n",
              "      <td>VILA SONIA</td>\n",
              "      <td>9404</td>\n",
              "      <td>NaN</td>\n",
              "      <td>07/06/1988</td>\n",
              "      <td>26.117</td>\n",
              "      <td>07/06/1988</td>\n",
              "      <td>NaN</td>\n",
              "      <td>26/09/1988</td>\n",
              "      <td>13/03/2001</td>\n",
              "      <td>NaN</td>\n",
              "      <td>ANTONIO CARLOS PACHECO E SILVA, PROF.</td>\n",
              "      <td>DIR</td>\n",
              "      <td>-23.611.929</td>\n",
              "      <td>-46.750.176</td>\n",
              "    </tr>\n",
              "    <tr>\n",
              "      <th>2</th>\n",
              "      <td>EMEF</td>\n",
              "      <td>PROFA. EDA TEREZINHA CHICA MEDEIROS</td>\n",
              "      <td>NaN</td>\n",
              "      <td>DIRETORIA REGIONAL DE EDUCACAO BUTANTA</td>\n",
              "      <td>BUTANTA</td>\n",
              "      <td>ATIVA</td>\n",
              "      <td>RAPOSO TAVARES</td>\n",
              "      <td>6504</td>\n",
              "      <td>NaN</td>\n",
              "      <td>26/10/1988</td>\n",
              "      <td>27.212</td>\n",
              "      <td>26/10/1988</td>\n",
              "      <td>NaN</td>\n",
              "      <td>20/02/1989</td>\n",
              "      <td>16/03/1991</td>\n",
              "      <td>NaN</td>\n",
              "      <td>EDA TEREZINHA CHICA MEDEIROS, PROFA.</td>\n",
              "      <td>DIR</td>\n",
              "      <td>-23.602.076</td>\n",
              "      <td>-46.783.825</td>\n",
              "    </tr>\n",
              "    <tr>\n",
              "      <th>3</th>\n",
              "      <td>EMEF</td>\n",
              "      <td>PROFA. MARIA ALICE BORGES GHION</td>\n",
              "      <td>NaN</td>\n",
              "      <td>DIRETORIA REGIONAL DE EDUCACAO BUTANTA</td>\n",
              "      <td>BUTANTA</td>\n",
              "      <td>ATIVA</td>\n",
              "      <td>RAPOSO TAVARES</td>\n",
              "      <td>6501</td>\n",
              "      <td>NaN</td>\n",
              "      <td>17/02/1992</td>\n",
              "      <td>31.240</td>\n",
              "      <td>17/02/1992</td>\n",
              "      <td>NaN</td>\n",
              "      <td>20/02/1992</td>\n",
              "      <td>13/03/2001</td>\n",
              "      <td>NaN</td>\n",
              "      <td>COHAB RAPOSO TAVARES</td>\n",
              "      <td>DIR</td>\n",
              "      <td>-23.586.959</td>\n",
              "      <td>-46.801.039</td>\n",
              "    </tr>\n",
              "    <tr>\n",
              "      <th>4</th>\n",
              "      <td>EMEI</td>\n",
              "      <td>PROF. BENEDICTO CASTRUCCI</td>\n",
              "      <td>NaN</td>\n",
              "      <td>DIRETORIA REGIONAL DE EDUCACAO BUTANTA</td>\n",
              "      <td>BUTANTA</td>\n",
              "      <td>ATIVA</td>\n",
              "      <td>RAPOSO TAVARES</td>\n",
              "      <td>6501</td>\n",
              "      <td>NaN</td>\n",
              "      <td>02/03/1994</td>\n",
              "      <td>34.005</td>\n",
              "      <td>02/03/1994</td>\n",
              "      <td>NaN</td>\n",
              "      <td>13/04/1994</td>\n",
              "      <td>13/03/2001</td>\n",
              "      <td>NaN</td>\n",
              "      <td>CONJ. HABITACIONAL RAPOSO TAVARES</td>\n",
              "      <td>DIR</td>\n",
              "      <td>-23.586.339</td>\n",
              "      <td>-46.800.967</td>\n",
              "    </tr>\n",
              "  </tbody>\n",
              "</table>\n",
              "</div>"
            ],
            "text/plain": [
              "  tipoesc                                nomesc  ...     latitude    longitude\n",
              "0    EMEF              ALIPIO CORREA NETO, PROF  ...  -23.612.237  -46.749.888\n",
              "1    EMEI  ANTONIO CARLOS PACHECO E SILVA, PROF  ...  -23.611.929  -46.750.176\n",
              "2    EMEF   PROFA. EDA TEREZINHA CHICA MEDEIROS  ...  -23.602.076  -46.783.825\n",
              "3    EMEF       PROFA. MARIA ALICE BORGES GHION  ...  -23.586.959  -46.801.039\n",
              "4    EMEI             PROF. BENEDICTO CASTRUCCI  ...  -23.586.339  -46.800.967\n",
              "\n",
              "[5 rows x 20 columns]"
            ]
          },
          "metadata": {
            "tags": []
          },
          "execution_count": 5
        }
      ]
    },
    {
      "cell_type": "markdown",
      "metadata": {
        "id": "K8_nTQ8D7iro"
      },
      "source": [
        "## Dataframe quantidade de escola por tipo de escola e ano de criação"
      ]
    },
    {
      "cell_type": "code",
      "metadata": {
        "id": "J0p5PSydfO-a",
        "outputId": "ff307982-3111-46ec-e003-0d6dca5c58ab",
        "colab": {
          "base_uri": "https://localhost:8080/",
          "height": 204
        }
      },
      "source": [
        "dados_grafico2 = dados.filter(['tipoesc', 'dt_criacao']) #criando outro dataframe com as colunas tipoesc e dt_criacao\n",
        "dados_grafico2 = dados_grafico2.dropna(subset =['dt_criacao']) #retirando as linhas que tiveram valores NaN na coluna dt_criacao. subset serve para indicar a coluna que deve se retirar o NaN\n",
        "\n",
        "\n",
        "anos_lista = [] #criando lista vazia\n",
        "for data in dados_grafico2['dt_criacao']:  #loop para acessar item por item dacoluna dt_criacao\n",
        "    anos_lista.append(data[len(data)-4:len(data)]) #recortando apenas os 4 ultimos caracteres do item, os quais são somente o ano. adicionando esse ano na lista anos_lista\n",
        "\n",
        "dados_grafico2 = dados_grafico2.drop(columns=['dt_criacao']) #recortando a coluna dt_criacao que agora nao serve mais para nós\n",
        "dados_grafico2['anos_criacao'] = anos_lista  #criando uma nova coluna chamada anos_criacao que contem os anos que foram salvos na lista anos_lista\n",
        "\n",
        "dados_grafico2_grouped = dados_grafico2.groupby(['tipoesc','anos_criacao'], as_index=False) #agrupando os valores\n",
        "dados_grafico2_size = dados_grafico2_grouped.size() #contando a quantidade em cada grupo\n",
        "dados_grafico2_size.head() #printando o dataframe\n",
        "\n",
        "\n"
      ],
      "execution_count": null,
      "outputs": [
        {
          "output_type": "execute_result",
          "data": {
            "text/html": [
              "<div>\n",
              "<style scoped>\n",
              "    .dataframe tbody tr th:only-of-type {\n",
              "        vertical-align: middle;\n",
              "    }\n",
              "\n",
              "    .dataframe tbody tr th {\n",
              "        vertical-align: top;\n",
              "    }\n",
              "\n",
              "    .dataframe thead th {\n",
              "        text-align: right;\n",
              "    }\n",
              "</style>\n",
              "<table border=\"1\" class=\"dataframe\">\n",
              "  <thead>\n",
              "    <tr style=\"text-align: right;\">\n",
              "      <th></th>\n",
              "      <th>tipoesc</th>\n",
              "      <th>anos_criacao</th>\n",
              "      <th>size</th>\n",
              "    </tr>\n",
              "  </thead>\n",
              "  <tbody>\n",
              "    <tr>\n",
              "      <th>0</th>\n",
              "      <td>CCI/CIPS</td>\n",
              "      <td>1989</td>\n",
              "      <td>1</td>\n",
              "    </tr>\n",
              "    <tr>\n",
              "      <th>1</th>\n",
              "      <td>CEI DIRET</td>\n",
              "      <td>1976</td>\n",
              "      <td>2</td>\n",
              "    </tr>\n",
              "    <tr>\n",
              "      <th>2</th>\n",
              "      <td>CEI DIRET</td>\n",
              "      <td>1981</td>\n",
              "      <td>1</td>\n",
              "    </tr>\n",
              "    <tr>\n",
              "      <th>3</th>\n",
              "      <td>CEI DIRET</td>\n",
              "      <td>1984</td>\n",
              "      <td>6</td>\n",
              "    </tr>\n",
              "    <tr>\n",
              "      <th>4</th>\n",
              "      <td>CEI DIRET</td>\n",
              "      <td>1985</td>\n",
              "      <td>32</td>\n",
              "    </tr>\n",
              "  </tbody>\n",
              "</table>\n",
              "</div>"
            ],
            "text/plain": [
              "     tipoesc anos_criacao  size\n",
              "0   CCI/CIPS         1989     1\n",
              "1  CEI DIRET         1976     2\n",
              "2  CEI DIRET         1981     1\n",
              "3  CEI DIRET         1984     6\n",
              "4  CEI DIRET         1985    32"
            ]
          },
          "metadata": {
            "tags": []
          },
          "execution_count": 13
        }
      ]
    },
    {
      "cell_type": "markdown",
      "metadata": {
        "id": "JUBCy9fgAKXM"
      },
      "source": [
        "##Gráfico criação de escolas ao longo dos anos"
      ]
    },
    {
      "cell_type": "code",
      "metadata": {
        "id": "_tsNuPYH8xau",
        "outputId": "fd00a0d1-90b6-46b3-b288-849408fd5586",
        "colab": {
          "base_uri": "https://localhost:8080/",
          "height": 326
        }
      },
      "source": [
        "#agrupando\n",
        "dados_anos = pd.DataFrame(anos_lista, columns=['anos']) #criando um dataframe apenas com 1 coluna 'anos'\n",
        "dados_anos_grouped= dados_anos.groupby(['anos'], as_index=False) #agrupando os dados de anos\n",
        "dados_anos_grouped_size = dados_anos_grouped.size() #contando a quantidade em cada grupo de anos\n",
        "\n",
        "#criando gráfico\n",
        "fig = plt.figure(figsize=(35,8)) #criando uma figura geral para um grafico\n",
        "ax = fig.add_subplot(111) #criando um graffico\n",
        "ax.set_title('Criação de novas escolas ao longo dos anos', fontdict={'fontsize': 15, 'fontweight': 'medium'}) #definindo o titulo\n",
        "plt.ylabel(\"Quantidade de escolas\")  #definindo o titulo y\n",
        "plt.xlabel(\"Anos\") #definindo o titulo x\n",
        "plt.plot(dados_anos_grouped_size['anos'], dados_anos_grouped_size['size'], color='r') #de fato montando o gráfico\n",
        "\n",
        "plt.show() #mostrar o gráfico\n",
        "#plt.savefig() #salvar o grafico\n",
        "\n"
      ],
      "execution_count": null,
      "outputs": [
        {
          "output_type": "display_data",
          "data": {
            "image/png": "[encoded data removed]",
            "text/plain": [
              "<Figure size 2520x576 with 1 Axes>"
            ]
          },
          "metadata": {
            "tags": [],
            "needs_background": "light"
          }
        }
      ]
    },
    {
      "cell_type": "markdown",
      "metadata": {
        "id": "L6-x5qOdDFjV"
      },
      "source": [
        "##Mediana de criação de escolas por ano\n",
        "\n",
        "---\n",
        "\n"
      ]
    },
    {
      "cell_type": "code",
      "metadata": {
        "id": "L8OjsdfHB6kN",
        "outputId": "8f59ddea-6dfd-4a76-aaf6-67ec2b581bab",
        "colab": {
          "base_uri": "https://localhost:8080/"
        }
      },
      "source": [
        "dados_anos_grouped_size.median()[1] "
      ],
      "execution_count": null,
      "outputs": [
        {
          "output_type": "execute_result",
          "data": {
            "text/plain": [
              "23.0"
            ]
          },
          "metadata": {
            "tags": []
          },
          "execution_count": 8
        }
      ]
    },
    {
      "cell_type": "markdown",
      "metadata": {
        "id": "hPXcsB6EDMEf"
      },
      "source": [
        "##Media de criação de escolas por ano"
      ]
    },
    {
      "cell_type": "code",
      "metadata": {
        "id": "spMHFyYFCr93",
        "outputId": "6208e1de-1b7b-456f-838c-3658fb97cc75",
        "colab": {
          "base_uri": "https://localhost:8080/"
        }
      },
      "source": [
        "dados_anos_grouped_size.mean()[1]"
      ],
      "execution_count": null,
      "outputs": [
        {
          "output_type": "execute_result",
          "data": {
            "text/plain": [
              "67.08474576271186"
            ]
          },
          "metadata": {
            "tags": []
          },
          "execution_count": 9
        }
      ]
    },
    {
      "cell_type": "markdown",
      "metadata": {
        "id": "WGPLWCpbDOhZ"
      },
      "source": [
        "##Mínimo número de criação de escolas em um ano"
      ]
    },
    {
      "cell_type": "code",
      "metadata": {
        "id": "WsPPhLB3C61C",
        "outputId": "08bf691a-0e11-492b-fd59-8fb6aa7bc465",
        "colab": {
          "base_uri": "https://localhost:8080/"
        }
      },
      "source": [
        "dados_anos_grouped_size.min()"
      ],
      "execution_count": null,
      "outputs": [
        {
          "output_type": "execute_result",
          "data": {
            "text/plain": [
              "anos    1902\n",
              "size       1\n",
              "dtype: object"
            ]
          },
          "metadata": {
            "tags": []
          },
          "execution_count": 16
        }
      ]
    },
    {
      "cell_type": "markdown",
      "metadata": {
        "id": "8cf86-6PDbW2"
      },
      "source": [
        "##Máximo número de criação de escolas em um ano"
      ]
    },
    {
      "cell_type": "code",
      "metadata": {
        "id": "ziKqd61qC_53",
        "outputId": "3f2e6689-e711-4b10-ed8e-5bbb71e83e03",
        "colab": {
          "base_uri": "https://localhost:8080/"
        }
      },
      "source": [
        "dados_anos_grouped_size.max()"
      ],
      "execution_count": null,
      "outputs": [
        {
          "output_type": "execute_result",
          "data": {
            "text/plain": [
              "anos    2019\n",
              "size     350\n",
              "dtype: object"
            ]
          },
          "metadata": {
            "tags": []
          },
          "execution_count": 17
        }
      ]
    },
    {
      "cell_type": "markdown",
      "metadata": {
        "id": "sECRg6NybUFd"
      },
      "source": [
        "## Gráfico quantidade de tipos de escolas"
      ]
    },
    {
      "cell_type": "code",
      "metadata": {
        "id": "mkqWCB9ySukS",
        "outputId": "132f955d-6f9b-4fd8-85fa-b1495160d8be",
        "colab": {
          "base_uri": "https://localhost:8080/",
          "height": 446
        }
      },
      "source": [
        "import numpy as np\n",
        "\n",
        "dados_tipoesc = dados.filter(['tipoesc'])\n",
        "tipoesc_grouped = dados_tipoesc.groupby(['tipoesc'], as_index=False) #agrupandos os dados de tipoesc\n",
        "tipoesc_grouped_size = tipoesc_grouped.size() #contando a quantidade em cada grupo de tipoesc\n",
        "\n",
        "fig = plt.figure(figsize=(12,7))  #criando uma figura geral para um grafico\n",
        "ax = fig.add_subplot(111) #criando um grafico na figura geral\n",
        "ax.set_title('Quantidade de tipos de escolas', fontdict={'fontsize': 15, 'fontweight': 'medium'}) #definindo o titulo\n",
        "\n",
        "my_colors= np.array([\"crimson\", \"forestgreen\", \"blue\", \"orange\", \"red\", \"pink\", \"gold\", \"coral\", \"aqua\", \"silver\", \"olive\",\"black\", \"deeppink\", \"blueviolet\", \"brown\", \"lightcoral\"])\n",
        "\n",
        "plt.bar(tipoesc_grouped_size['tipoesc'], tipoesc_grouped_size['size'], color=my_colors) #criando o grafico de barras\n",
        "#width=0.8\n",
        " \n",
        "plt.show()\n",
        "\n"
      ],
      "execution_count": 8,
      "outputs": [
        {
          "output_type": "display_data",
          "data": {
            "image/png": "[encoded data removed]",
            "text/plain": [
              "<Figure size 864x504 with 1 Axes>"
            ]
          },
          "metadata": {
            "tags": [],
            "needs_background": "light"
          }
        }
      ]
    },
    {
      "cell_type": "code",
      "metadata": {
        "id": "EQ0L8LOTEbNa",
        "outputId": "e3f66979-b448-434c-cf77-fce63ccc8ed5",
        "colab": {
          "base_uri": "https://localhost:8080/",
          "height": 501
        }
      },
      "source": [
        "import numpy as np #importando biblioteca numpy\n",
        "dados_subpref = dados.filter(['subpref']) #criando dataframe somente com a coluna subpref\n",
        "\n",
        "grouped_subpref = dados_subpref.groupby(['subpref'], as_index=False) #agrupandos os dados de subpref\n",
        "grouped_subpref_size = grouped_subpref.size() #contando a quantidade em cada grupo de subpref\n",
        "\n",
        "fig = plt.figure(figsize=(7,8)) #criando uma figura geral para um grafico\n",
        "ax = fig.add_subplot(111)#criando um grafico na figura geral\n",
        "ax.set_title('Quantidade de subprefeituras coordenadoras de escolas', fontdict={'fontsize': 15, 'fontweight': 'medium'})\n",
        "my_colors= np.array([\"crimson\", \"forestgreen\", \"blue\", \"orange\", \"red\", \"pink\", \"gold\", \"coral\"])\n",
        "plt.barh(grouped_subpref_size['subpref'], grouped_subpref_size['size'], color=my_colors) \n",
        "plt.show()"
      ],
      "execution_count": null,
      "outputs": [
        {
          "output_type": "display_data",
          "data": {
            "image/png": "[encoded data removed]",
            "text/plain": [
              "<Figure size 504x576 with 1 Axes>"
            ]
          },
          "metadata": {
            "tags": [],
            "needs_background": "light"
          }
        }
      ]
    },
    {
      "cell_type": "markdown",
      "metadata": {
        "id": "lT29jk_EIBqr"
      },
      "source": [
        "## Média de responsabilidade das subprefeituras"
      ]
    },
    {
      "cell_type": "code",
      "metadata": {
        "id": "psg0WOy2Hbh8",
        "outputId": "caace13d-859c-4e47-c43f-3b01fab4a7f4",
        "colab": {
          "base_uri": "https://localhost:8080/"
        }
      },
      "source": [
        "grouped_subpref_size.mean()"
      ],
      "execution_count": null,
      "outputs": [
        {
          "output_type": "execute_result",
          "data": {
            "text/plain": [
              "size    153.4375\n",
              "dtype: float64"
            ]
          },
          "metadata": {
            "tags": []
          },
          "execution_count": 162
        }
      ]
    },
    {
      "cell_type": "markdown",
      "metadata": {
        "id": "Yt_hXLWqINSW"
      },
      "source": [
        "## Máximo de responsabilidade de uma subprefeitura\n",
        "\n",
        "---\n",
        "\n"
      ]
    },
    {
      "cell_type": "code",
      "metadata": {
        "id": "bnEfx88TIJbQ",
        "outputId": "2b5d3af5-97d5-45fb-d59b-944e34f5bf5e",
        "colab": {
          "base_uri": "https://localhost:8080/"
        }
      },
      "source": [
        "grouped_subpref_size.max()"
      ],
      "execution_count": null,
      "outputs": [
        {
          "output_type": "execute_result",
          "data": {
            "text/plain": [
              "subpref    VILA PRUDENTE\n",
              "size                 303\n",
              "dtype: object"
            ]
          },
          "metadata": {
            "tags": []
          },
          "execution_count": 164
        }
      ]
    },
    {
      "cell_type": "markdown",
      "metadata": {
        "id": "nqr5AC7iDsV4"
      },
      "source": [
        "##Relacionando subpref com tipo de escola\n",
        "\n",
        "> Indented block\n",
        "\n"
      ]
    },
    {
      "cell_type": "code",
      "metadata": {
        "id": "iC-NSSAnJj_5",
        "outputId": "687e5d5e-98f3-45a1-9796-89b45116a2cd",
        "colab": {
          "base_uri": "https://localhost:8080/"
        }
      },
      "source": [
        "dadosselecionados = dados.filter(['subpref', 'tipoesc']) #criando dadaframe com subpref e tipoesc\n",
        "grouped = dadosselecionados.groupby(['subpref', 'tipoesc'], as_index=False) #agrupando subpref e tipoesc\n",
        "grouped_size = grouped.size() #contando a quantidade de grupos juntando subpref e tipoesc\n",
        "unico_subpref = pd.unique(list(grouped_size['subpref'])) #selecionando os nomes únicos(sem repartir)  na coluna subpref\n",
        "unico_esc = pd.unique(list(grouped_size['tipoesc'])) #selecionando os nome únicos na coluna tipoesc\n",
        "lista = [] #criando lista vazia para comportar os dicionarios\n",
        "\n",
        "for j in unico_esc: #percorre item por item de tipoesc\n",
        "  dicionario = {}\n",
        "  for i in unico_subpref: #percorre item por item de subpref\n",
        "    dicionario[i] = 0 #um dicionario para cada tipoesc, vao servir como barra no grafico\n",
        "    for index, row in grouped_size.iterrows(): #percorrendo linha por linha do dataframe\n",
        "      if i == row[0] and j == row[1]: #row[0]= nome do subpref, row[1]=nome do tipoesc, vendo se esses itens são iguais no dataframe e nas listas unico_esc e unico_subpref\n",
        "        dicionario[i] = row[2] # row[2]= tamanho dos grupos #se o resultado na linha de cima for positivo, vai acrescentar row[2] no dicionario\n",
        "  lista.append(dicionario) #adiciona o dicionario a lista\n",
        "\n",
        "#cada dicioanario da lista é sobre um tipoesc\n",
        "for i, j in zip(lista, unico_esc):\n",
        "  print(j, i) #printando um item do unico_esc e um dicionario da lista"
      ],
      "execution_count": null,
      "outputs": [
        {
          "output_type": "stream",
          "text": [
            "CEI DIRET {'ARICANDUVA': 3, 'BUTANTA': 14, 'CAMPO LIMPO': 20, 'CAPELA DO SOCORRO': 22, 'CASA VERDE/CACHOEIRINHA': 6, 'CIDADE ADEMAR': 8, 'CIDADE TIRADENTES': 15, 'ERMELINO MATARAZZO': 13, 'FREGUESIA/BRASILANDIA': 9, 'GUAIANASES': 9, 'IPIRANGA': 10, 'ITAIM PAULISTA': 20, 'ITAQUERA': 18, 'JABAQUARA': 5, 'JACANA/TREMEMBE': 8, 'LAPA': 2, 'M BOI MIRIM': 21, 'MOOCA': 3, 'PARELHEIROS': 2, 'PENHA': 15, 'PERUS': 5, 'PINHEIROS': 1, 'PIRITUBA': 15, 'SANTANA/TUCURUVI': 8, 'SANTO AMARO': 3, 'SAO MATEUS': 18, 'SAO MIGUEL': 16, 'SAPOPEMBA': 10, 'SE': 5, 'VILA MARIA/VILA GUILHERME': 7, 'VILA MARIANA': 3, 'VILA PRUDENTE': 3}\n",
            "CEI INDIR {'ARICANDUVA': 6, 'BUTANTA': 14, 'CAMPO LIMPO': 18, 'CAPELA DO SOCORRO': 23, 'CASA VERDE/CACHOEIRINHA': 5, 'CIDADE ADEMAR': 11, 'CIDADE TIRADENTES': 10, 'ERMELINO MATARAZZO': 6, 'FREGUESIA/BRASILANDIA': 18, 'GUAIANASES': 8, 'IPIRANGA': 18, 'ITAIM PAULISTA': 16, 'ITAQUERA': 30, 'JABAQUARA': 11, 'JACANA/TREMEMBE': 8, 'LAPA': 7, 'M BOI MIRIM': 12, 'MOOCA': 9, 'PARELHEIROS': 2, 'PENHA': 20, 'PERUS': 5, 'PINHEIROS': 6, 'PIRITUBA': 19, 'SANTANA/TUCURUVI': 3, 'SANTO AMARO': 5, 'SAO MATEUS': 16, 'SAO MIGUEL': 21, 'SAPOPEMBA': 18, 'SE': 15, 'VILA MARIA/VILA GUILHERME': 13, 'VILA MARIANA': 3, 'VILA PRUDENTE': 5}\n",
            "CEU CEI {'ARICANDUVA': 1, 'BUTANTA': 2, 'CAMPO LIMPO': 5, 'CAPELA DO SOCORRO': 4, 'CASA VERDE/CACHOEIRINHA': 0, 'CIDADE ADEMAR': 1, 'CIDADE TIRADENTES': 2, 'ERMELINO MATARAZZO': 0, 'FREGUESIA/BRASILANDIA': 2, 'GUAIANASES': 2, 'IPIRANGA': 2, 'ITAIM PAULISTA': 2, 'ITAQUERA': 2, 'JABAQUARA': 1, 'JACANA/TREMEMBE': 1, 'LAPA': 1, 'M BOI MIRIM': 3, 'MOOCA': 0, 'PARELHEIROS': 1, 'PENHA': 2, 'PERUS': 2, 'PINHEIROS': 0, 'PIRITUBA': 2, 'SANTANA/TUCURUVI': 0, 'SANTO AMARO': 0, 'SAO MATEUS': 3, 'SAO MIGUEL': 2, 'SAPOPEMBA': 2, 'SE': 0, 'VILA MARIA/VILA GUILHERME': 0, 'VILA MARIANA': 0, 'VILA PRUDENTE': 0}\n",
            "CEU EMEF {'ARICANDUVA': 1, 'BUTANTA': 2, 'CAMPO LIMPO': 5, 'CAPELA DO SOCORRO': 4, 'CASA VERDE/CACHOEIRINHA': 0, 'CIDADE ADEMAR': 1, 'CIDADE TIRADENTES': 2, 'ERMELINO MATARAZZO': 0, 'FREGUESIA/BRASILANDIA': 2, 'GUAIANASES': 2, 'IPIRANGA': 3, 'ITAIM PAULISTA': 2, 'ITAQUERA': 2, 'JABAQUARA': 1, 'JACANA/TREMEMBE': 1, 'LAPA': 1, 'M BOI MIRIM': 3, 'MOOCA': 0, 'PARELHEIROS': 1, 'PENHA': 2, 'PERUS': 2, 'PINHEIROS': 0, 'PIRITUBA': 2, 'SANTANA/TUCURUVI': 0, 'SANTO AMARO': 0, 'SAO MATEUS': 3, 'SAO MIGUEL': 2, 'SAPOPEMBA': 2, 'SE': 0, 'VILA MARIA/VILA GUILHERME': 0, 'VILA MARIANA': 0, 'VILA PRUDENTE': 0}\n",
            "CEU EMEI {'ARICANDUVA': 1, 'BUTANTA': 2, 'CAMPO LIMPO': 5, 'CAPELA DO SOCORRO': 4, 'CASA VERDE/CACHOEIRINHA': 0, 'CIDADE ADEMAR': 1, 'CIDADE TIRADENTES': 2, 'ERMELINO MATARAZZO': 0, 'FREGUESIA/BRASILANDIA': 2, 'GUAIANASES': 2, 'IPIRANGA': 3, 'ITAIM PAULISTA': 2, 'ITAQUERA': 3, 'JABAQUARA': 1, 'JACANA/TREMEMBE': 1, 'LAPA': 1, 'M BOI MIRIM': 3, 'MOOCA': 0, 'PARELHEIROS': 1, 'PENHA': 2, 'PERUS': 2, 'PINHEIROS': 0, 'PIRITUBA': 2, 'SANTANA/TUCURUVI': 0, 'SANTO AMARO': 0, 'SAO MATEUS': 3, 'SAO MIGUEL': 2, 'SAPOPEMBA': 2, 'SE': 0, 'VILA MARIA/VILA GUILHERME': 0, 'VILA MARIANA': 0, 'VILA PRUDENTE': 0}\n",
            "CR.P.CONV {'ARICANDUVA': 33, 'BUTANTA': 72, 'CAMPO LIMPO': 109, 'CAPELA DO SOCORRO': 76, 'CASA VERDE/CACHOEIRINHA': 63, 'CIDADE ADEMAR': 66, 'CIDADE TIRADENTES': 71, 'ERMELINO MATARAZZO': 29, 'FREGUESIA/BRASILANDIA': 109, 'GUAIANASES': 121, 'IPIRANGA': 60, 'ITAIM PAULISTA': 94, 'ITAQUERA': 105, 'JABAQUARA': 15, 'JACANA/TREMEMBE': 41, 'LAPA': 30, 'M BOI MIRIM': 112, 'MOOCA': 28, 'PARELHEIROS': 30, 'PENHA': 60, 'PERUS': 42, 'PINHEIROS': 4, 'PIRITUBA': 80, 'SANTANA/TUCURUVI': 18, 'SANTO AMARO': 15, 'SAO MATEUS': 83, 'SAO MIGUEL': 57, 'SAPOPEMBA': 21, 'SE': 36, 'VILA MARIA/VILA GUILHERME': 30, 'VILA MARIANA': 12, 'VILA PRUDENTE': 28}\n",
            "EMEF {'ARICANDUVA': 8, 'BUTANTA': 28, 'CAMPO LIMPO': 39, 'CAPELA DO SOCORRO': 26, 'CASA VERDE/CACHOEIRINHA': 12, 'CIDADE ADEMAR': 15, 'CIDADE TIRADENTES': 22, 'ERMELINO MATARAZZO': 9, 'FREGUESIA/BRASILANDIA': 23, 'GUAIANASES': 9, 'IPIRANGA': 15, 'ITAIM PAULISTA': 23, 'ITAQUERA': 19, 'JABAQUARA': 6, 'JACANA/TREMEMBE': 11, 'LAPA': 6, 'M BOI MIRIM': 24, 'MOOCA': 10, 'PARELHEIROS': 5, 'PENHA': 17, 'PERUS': 14, 'PINHEIROS': 3, 'PIRITUBA': 33, 'SANTANA/TUCURUVI': 9, 'SANTO AMARO': 11, 'SAO MATEUS': 28, 'SAO MIGUEL': 24, 'SAPOPEMBA': 19, 'SE': 3, 'VILA MARIA/VILA GUILHERME': 15, 'VILA MARIANA': 3, 'VILA PRUDENTE': 12}\n",
            "EMEI {'ARICANDUVA': 9, 'BUTANTA': 24, 'CAMPO LIMPO': 26, 'CAPELA DO SOCORRO': 28, 'CASA VERDE/CACHOEIRINHA': 12, 'CIDADE ADEMAR': 15, 'CIDADE TIRADENTES': 20, 'ERMELINO MATARAZZO': 11, 'FREGUESIA/BRASILANDIA': 21, 'GUAIANASES': 13, 'IPIRANGA': 18, 'ITAIM PAULISTA': 20, 'ITAQUERA': 32, 'JABAQUARA': 8, 'JACANA/TREMEMBE': 11, 'LAPA': 12, 'M BOI MIRIM': 25, 'MOOCA': 17, 'PARELHEIROS': 7, 'PENHA': 19, 'PERUS': 8, 'PINHEIROS': 5, 'PIRITUBA': 25, 'SANTANA/TUCURUVI': 10, 'SANTO AMARO': 7, 'SAO MATEUS': 26, 'SAO MIGUEL': 19, 'SAPOPEMBA': 17, 'SE': 10, 'VILA MARIA/VILA GUILHERME': 16, 'VILA MARIANA': 9, 'VILA PRUDENTE': 11}\n",
            "ESC.PART. {'ARICANDUVA': 32, 'BUTANTA': 93, 'CAMPO LIMPO': 47, 'CAPELA DO SOCORRO': 34, 'CASA VERDE/CACHOEIRINHA': 14, 'CIDADE ADEMAR': 22, 'CIDADE TIRADENTES': 1, 'ERMELINO MATARAZZO': 16, 'FREGUESIA/BRASILANDIA': 8, 'GUAIANASES': 4, 'IPIRANGA': 52, 'ITAIM PAULISTA': 8, 'ITAQUERA': 29, 'JABAQUARA': 20, 'JACANA/TREMEMBE': 11, 'LAPA': 57, 'M BOI MIRIM': 22, 'MOOCA': 67, 'PARELHEIROS': 2, 'PENHA': 60, 'PERUS': 0, 'PINHEIROS': 54, 'PIRITUBA': 21, 'SANTANA/TUCURUVI': 31, 'SANTO AMARO': 56, 'SAO MATEUS': 8, 'SAO MIGUEL': 9, 'SAPOPEMBA': 5, 'SE': 32, 'VILA MARIA/VILA GUILHERME': 20, 'VILA MARIANA': 59, 'VILA PRUDENTE': 19}\n",
            "MOVA {'ARICANDUVA': 1, 'BUTANTA': 6, 'CAMPO LIMPO': 22, 'CAPELA DO SOCORRO': 23, 'CASA VERDE/CACHOEIRINHA': 13, 'CIDADE ADEMAR': 20, 'CIDADE TIRADENTES': 6, 'ERMELINO MATARAZZO': 11, 'FREGUESIA/BRASILANDIA': 26, 'GUAIANASES': 26, 'IPIRANGA': 10, 'ITAIM PAULISTA': 14, 'ITAQUERA': 18, 'JABAQUARA': 6, 'JACANA/TREMEMBE': 8, 'LAPA': 1, 'M BOI MIRIM': 39, 'MOOCA': 1, 'PARELHEIROS': 3, 'PENHA': 11, 'PERUS': 12, 'PINHEIROS': 0, 'PIRITUBA': 16, 'SANTANA/TUCURUVI': 2, 'SANTO AMARO': 0, 'SAO MATEUS': 24, 'SAO MIGUEL': 15, 'SAPOPEMBA': 6, 'SE': 4, 'VILA MARIA/VILA GUILHERME': 1, 'VILA MARIANA': 3, 'VILA PRUDENTE': 0}\n",
            "CEMEI {'ARICANDUVA': 0, 'BUTANTA': 1, 'CAMPO LIMPO': 6, 'CAPELA DO SOCORRO': 3, 'CASA VERDE/CACHOEIRINHA': 0, 'CIDADE ADEMAR': 0, 'CIDADE TIRADENTES': 0, 'ERMELINO MATARAZZO': 0, 'FREGUESIA/BRASILANDIA': 0, 'GUAIANASES': 0, 'IPIRANGA': 0, 'ITAIM PAULISTA': 0, 'ITAQUERA': 0, 'JABAQUARA': 0, 'JACANA/TREMEMBE': 0, 'LAPA': 0, 'M BOI MIRIM': 6, 'MOOCA': 0, 'PARELHEIROS': 0, 'PENHA': 0, 'PERUS': 0, 'PINHEIROS': 0, 'PIRITUBA': 0, 'SANTANA/TUCURUVI': 0, 'SANTO AMARO': 0, 'SAO MATEUS': 0, 'SAO MIGUEL': 0, 'SAPOPEMBA': 0, 'SE': 0, 'VILA MARIA/VILA GUILHERME': 0, 'VILA MARIANA': 0, 'VILA PRUDENTE': 0}\n",
            "CIEJA {'ARICANDUVA': 0, 'BUTANTA': 1, 'CAMPO LIMPO': 1, 'CAPELA DO SOCORRO': 0, 'CASA VERDE/CACHOEIRINHA': 0, 'CIDADE ADEMAR': 0, 'CIDADE TIRADENTES': 0, 'ERMELINO MATARAZZO': 1, 'FREGUESIA/BRASILANDIA': 1, 'GUAIANASES': 1, 'IPIRANGA': 1, 'ITAIM PAULISTA': 0, 'ITAQUERA': 1, 'JABAQUARA': 0, 'JACANA/TREMEMBE': 0, 'LAPA': 0, 'M BOI MIRIM': 0, 'MOOCA': 0, 'PARELHEIROS': 1, 'PENHA': 0, 'PERUS': 1, 'PINHEIROS': 0, 'PIRITUBA': 0, 'SANTANA/TUCURUVI': 1, 'SANTO AMARO': 1, 'SAO MATEUS': 2, 'SAO MIGUEL': 0, 'SAPOPEMBA': 1, 'SE': 1, 'VILA MARIA/VILA GUILHERME': 1, 'VILA MARIANA': 0, 'VILA PRUDENTE': 0}\n",
            "EMEBS {'ARICANDUVA': 0, 'BUTANTA': 0, 'CAMPO LIMPO': 0, 'CAPELA DO SOCORRO': 0, 'CASA VERDE/CACHOEIRINHA': 1, 'CIDADE ADEMAR': 0, 'CIDADE TIRADENTES': 0, 'ERMELINO MATARAZZO': 0, 'FREGUESIA/BRASILANDIA': 0, 'GUAIANASES': 0, 'IPIRANGA': 0, 'ITAIM PAULISTA': 0, 'ITAQUERA': 0, 'JABAQUARA': 0, 'JACANA/TREMEMBE': 1, 'LAPA': 0, 'M BOI MIRIM': 0, 'MOOCA': 1, 'PARELHEIROS': 0, 'PENHA': 0, 'PERUS': 0, 'PINHEIROS': 0, 'PIRITUBA': 1, 'SANTANA/TUCURUVI': 0, 'SANTO AMARO': 1, 'SAO MATEUS': 0, 'SAO MIGUEL': 0, 'SAPOPEMBA': 0, 'SE': 1, 'VILA MARIA/VILA GUILHERME': 0, 'VILA MARIANA': 0, 'VILA PRUDENTE': 0}\n",
            "EMEFM {'ARICANDUVA': 0, 'BUTANTA': 0, 'CAMPO LIMPO': 0, 'CAPELA DO SOCORRO': 0, 'CASA VERDE/CACHOEIRINHA': 0, 'CIDADE ADEMAR': 0, 'CIDADE TIRADENTES': 1, 'ERMELINO MATARAZZO': 0, 'FREGUESIA/BRASILANDIA': 0, 'GUAIANASES': 0, 'IPIRANGA': 0, 'ITAIM PAULISTA': 0, 'ITAQUERA': 0, 'JABAQUARA': 0, 'JACANA/TREMEMBE': 0, 'LAPA': 0, 'M BOI MIRIM': 0, 'MOOCA': 0, 'PARELHEIROS': 0, 'PENHA': 0, 'PERUS': 0, 'PINHEIROS': 0, 'PIRITUBA': 2, 'SANTANA/TUCURUVI': 2, 'SANTO AMARO': 1, 'SAO MATEUS': 0, 'SAO MIGUEL': 1, 'SAPOPEMBA': 1, 'SE': 0, 'VILA MARIA/VILA GUILHERME': 0, 'VILA MARIANA': 0, 'VILA PRUDENTE': 0}\n",
            "CCI/CIPS {'ARICANDUVA': 0, 'BUTANTA': 0, 'CAMPO LIMPO': 0, 'CAPELA DO SOCORRO': 0, 'CASA VERDE/CACHOEIRINHA': 0, 'CIDADE ADEMAR': 0, 'CIDADE TIRADENTES': 0, 'ERMELINO MATARAZZO': 0, 'FREGUESIA/BRASILANDIA': 1, 'GUAIANASES': 0, 'IPIRANGA': 0, 'ITAIM PAULISTA': 0, 'ITAQUERA': 0, 'JABAQUARA': 0, 'JACANA/TREMEMBE': 0, 'LAPA': 0, 'M BOI MIRIM': 0, 'MOOCA': 1, 'PARELHEIROS': 0, 'PENHA': 0, 'PERUS': 0, 'PINHEIROS': 0, 'PIRITUBA': 0, 'SANTANA/TUCURUVI': 0, 'SANTO AMARO': 0, 'SAO MATEUS': 0, 'SAO MIGUEL': 0, 'SAPOPEMBA': 0, 'SE': 1, 'VILA MARIA/VILA GUILHERME': 0, 'VILA MARIANA': 0, 'VILA PRUDENTE': 0}\n",
            "CMCT {'ARICANDUVA': 0, 'BUTANTA': 0, 'CAMPO LIMPO': 0, 'CAPELA DO SOCORRO': 0, 'CASA VERDE/CACHOEIRINHA': 0, 'CIDADE ADEMAR': 0, 'CIDADE TIRADENTES': 0, 'ERMELINO MATARAZZO': 0, 'FREGUESIA/BRASILANDIA': 0, 'GUAIANASES': 0, 'IPIRANGA': 0, 'ITAIM PAULISTA': 1, 'ITAQUERA': 0, 'JABAQUARA': 0, 'JACANA/TREMEMBE': 0, 'LAPA': 0, 'M BOI MIRIM': 0, 'MOOCA': 0, 'PARELHEIROS': 0, 'PENHA': 0, 'PERUS': 0, 'PINHEIROS': 0, 'PIRITUBA': 0, 'SANTANA/TUCURUVI': 0, 'SANTO AMARO': 0, 'SAO MATEUS': 0, 'SAO MIGUEL': 1, 'SAPOPEMBA': 0, 'SE': 0, 'VILA MARIA/VILA GUILHERME': 0, 'VILA MARIANA': 0, 'VILA PRUDENTE': 0}\n"
          ],
          "name": "stdout"
        }
      ]
    },
    {
      "cell_type": "markdown",
      "metadata": {
        "id": "Udbqupte_1yL"
      },
      "source": [
        "##Gráfico incompleto de subpref com tipo de escola"
      ]
    },
    {
      "cell_type": "markdown",
      "metadata": {
        "id": "erWf5AeruOF9"
      },
      "source": [
        "cores disponiveis: https://matplotlib.org/3.1.0/gallery/color/named_colors.html"
      ]
    },
    {
      "cell_type": "code",
      "metadata": {
        "id": "HB7wiy5uzcrb",
        "outputId": "8da5ed8d-a80b-45cf-eba2-7a62d59ca4ef",
        "colab": {
          "base_uri": "https://localhost:8080/",
          "height": 248
        }
      },
      "source": [
        "import numpy as np\n",
        "import matplotlib.pyplot as plt\n",
        "import matplotlib.patches as mpatches\n",
        "\n",
        "#legend = []\n",
        "plt.figure(figsize=(20,20))\n",
        "\n",
        "colors = np.array([\"crimson\", \"forestgreen\", \"blue\", \"orange\", \"red\", \"pink\", \"gold\", \"coral\", \"aqua\", \"olive\", \"silver\", \"black\", \"deeppink\", \"blueviolet\", \"brown\", \"lightcoral\", 'flag', 'prism', 'ocean', 'gist_earth', 'terrain', 'gist_stern','gnuplot', 'gnuplot2', 'CMRmap', 'cubehelix', 'brg','gist_rainbow', 'rainbow', 'jet', 'turbo', 'nipy_spectral'])\n",
        "\n",
        "\n",
        "for dicionario, nome_legenda, color in zip(dicionarios1, unico_subpref, colors):  \n",
        "  oi = list(dicionario.values())\n",
        "  plt.bar(unico_subpref, oi, color=color, align='center', label=nome_legenda)\n",
        "\n",
        "\n",
        "\n",
        "plt.legend()\n",
        "plt.show()"
      ],
      "execution_count": null,
      "outputs": [
        {
          "output_type": "error",
          "ename": "NameError",
          "evalue": "ignored",
          "traceback": [
            "\u001b[0;31m---------------------------------------------------------------------------\u001b[0m",
            "\u001b[0;31mNameError\u001b[0m                                 Traceback (most recent call last)",
            "\u001b[0;32m<ipython-input-1-213352de3ad5>\u001b[0m in \u001b[0;36m<module>\u001b[0;34m()\u001b[0m\n\u001b[1;32m      9\u001b[0m \u001b[0;34m\u001b[0m\u001b[0m\n\u001b[1;32m     10\u001b[0m \u001b[0;34m\u001b[0m\u001b[0m\n\u001b[0;32m---> 11\u001b[0;31m \u001b[0;32mfor\u001b[0m \u001b[0mdicionario\u001b[0m\u001b[0;34m,\u001b[0m \u001b[0mnome_legenda\u001b[0m\u001b[0;34m,\u001b[0m \u001b[0mcolor\u001b[0m \u001b[0;32min\u001b[0m \u001b[0mzip\u001b[0m\u001b[0;34m(\u001b[0m\u001b[0mdicionarios1\u001b[0m\u001b[0;34m,\u001b[0m \u001b[0munico_subpref\u001b[0m\u001b[0;34m,\u001b[0m \u001b[0mcolors\u001b[0m\u001b[0;34m)\u001b[0m\u001b[0;34m:\u001b[0m\u001b[0;34m\u001b[0m\u001b[0;34m\u001b[0m\u001b[0m\n\u001b[0m\u001b[1;32m     12\u001b[0m   \u001b[0moi\u001b[0m \u001b[0;34m=\u001b[0m \u001b[0mlist\u001b[0m\u001b[0;34m(\u001b[0m\u001b[0mdicionario\u001b[0m\u001b[0;34m.\u001b[0m\u001b[0mvalues\u001b[0m\u001b[0;34m(\u001b[0m\u001b[0;34m)\u001b[0m\u001b[0;34m)\u001b[0m\u001b[0;34m\u001b[0m\u001b[0;34m\u001b[0m\u001b[0m\n\u001b[1;32m     13\u001b[0m   \u001b[0mplt\u001b[0m\u001b[0;34m.\u001b[0m\u001b[0mbar\u001b[0m\u001b[0;34m(\u001b[0m\u001b[0munico_subpref\u001b[0m\u001b[0;34m,\u001b[0m \u001b[0moi\u001b[0m\u001b[0;34m,\u001b[0m \u001b[0mcolor\u001b[0m\u001b[0;34m=\u001b[0m\u001b[0mcolor\u001b[0m\u001b[0;34m,\u001b[0m \u001b[0malign\u001b[0m\u001b[0;34m=\u001b[0m\u001b[0;34m'center'\u001b[0m\u001b[0;34m,\u001b[0m \u001b[0mlabel\u001b[0m\u001b[0;34m=\u001b[0m\u001b[0mnome_legenda\u001b[0m\u001b[0;34m)\u001b[0m\u001b[0;34m\u001b[0m\u001b[0;34m\u001b[0m\u001b[0m\n",
            "\u001b[0;31mNameError\u001b[0m: name 'dicionarios1' is not defined"
          ]
        },
        {
          "output_type": "display_data",
          "data": {
            "text/plain": [
              "<Figure size 1440x1440 with 0 Axes>"
            ]
          },
          "metadata": {
            "tags": []
          }
        }
      ]
    }
  ]
}